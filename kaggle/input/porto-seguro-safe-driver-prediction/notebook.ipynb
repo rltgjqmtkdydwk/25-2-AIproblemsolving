{
 "cells": [
  {
   "cell_type": "markdown",
   "id": "3abcb355",
   "metadata": {
    "papermill": {
     "duration": 0.026389,
     "end_time": "2022-03-05T03:48:20.062036",
     "exception": false,
     "start_time": "2022-03-05T03:48:20.035647",
     "status": "completed"
    },
    "tags": []
   },
   "source": [
    "# 8.4 안전 운전자 예측 경진대회 성능 개선 I : LightGBM 모델"
   ]
  },
  {
   "cell_type": "markdown",
   "id": "b431608f",
   "metadata": {
    "papermill": {
     "duration": 0.024395,
     "end_time": "2022-03-05T03:48:20.111607",
     "exception": false,
     "start_time": "2022-03-05T03:48:20.087212",
     "status": "completed"
    },
    "tags": []
   },
   "source": [
    "- [안전 운전자 예측 경진대회 링크](https://www.kaggle.com/c/porto-seguro-safe-driver-prediction)\n",
    "- [모델링 코드 참고 링크](https://www.kaggle.com/xiaozhouwang/2nd-place-lightgbm-solution)"
   ]
  },
  {
   "cell_type": "code",
   "execution_count": 1,
   "id": "2a2fdcb4",
   "metadata": {
    "execution": {
     "iopub.execute_input": "2022-03-05T03:48:20.173109Z",
     "iopub.status.busy": "2022-03-05T03:48:20.172323Z",
     "iopub.status.idle": "2022-03-05T03:48:30.793785Z",
     "shell.execute_reply": "2022-03-05T03:48:30.792643Z"
    },
    "papermill": {
     "duration": 10.657773,
     "end_time": "2022-03-05T03:48:30.793996",
     "exception": false,
     "start_time": "2022-03-05T03:48:20.136223",
     "status": "completed"
    },
    "tags": []
   },
   "outputs": [],
   "source": [
    "import pandas as pd\n",
    "\n",
    "# 데이터 경로\n",
    "data_path = '/kaggle/input/porto-seguro-safe-driver-prediction/'\n",
    "\n",
    "train = pd.read_csv(data_path + 'train.csv', index_col='id')\n",
    "test = pd.read_csv(data_path + 'test.csv', index_col='id')\n",
    "submission = pd.read_csv(data_path + 'sample_submission.csv', index_col='id')"
   ]
  },
  {
   "cell_type": "markdown",
   "id": "4397e092",
   "metadata": {
    "papermill": {
     "duration": 0.024836,
     "end_time": "2022-03-05T03:48:30.845505",
     "exception": false,
     "start_time": "2022-03-05T03:48:30.820669",
     "status": "completed"
    },
    "tags": []
   },
   "source": [
    "## 8.4.1 피처 엔지니어링"
   ]
  },
  {
   "cell_type": "markdown",
   "id": "520026f9",
   "metadata": {
    "papermill": {
     "duration": 0.02609,
     "end_time": "2022-03-05T03:48:30.896649",
     "exception": false,
     "start_time": "2022-03-05T03:48:30.870559",
     "status": "completed"
    },
    "tags": []
   },
   "source": [
    "### 데이터 합치기"
   ]
  },
  {
   "cell_type": "code",
   "execution_count": 2,
   "id": "d5d09410",
   "metadata": {
    "execution": {
     "iopub.execute_input": "2022-03-05T03:48:30.956121Z",
     "iopub.status.busy": "2022-03-05T03:48:30.955406Z",
     "iopub.status.idle": "2022-03-05T03:48:32.103734Z",
     "shell.execute_reply": "2022-03-05T03:48:32.103208Z"
    },
    "papermill": {
     "duration": 1.181994,
     "end_time": "2022-03-05T03:48:32.103875",
     "exception": false,
     "start_time": "2022-03-05T03:48:30.921881",
     "status": "completed"
    },
    "tags": []
   },
   "outputs": [],
   "source": [
    "all_data = pd.concat([train, test], ignore_index=True)\n",
    "all_data = all_data.drop('target', axis=1) # 타깃값 제거\n",
    "\n",
    "all_features = all_data.columns # 전체 피처"
   ]
  },
  {
   "cell_type": "markdown",
   "id": "3178ef8b",
   "metadata": {
    "papermill": {
     "duration": 0.024847,
     "end_time": "2022-03-05T03:48:32.153873",
     "exception": false,
     "start_time": "2022-03-05T03:48:32.129026",
     "status": "completed"
    },
    "tags": []
   },
   "source": [
    "### 명목형 피처 원-핫 인코딩"
   ]
  },
  {
   "cell_type": "code",
   "execution_count": 3,
   "id": "5695dd4b",
   "metadata": {
    "execution": {
     "iopub.execute_input": "2022-03-05T03:48:32.209102Z",
     "iopub.status.busy": "2022-03-05T03:48:32.208401Z",
     "iopub.status.idle": "2022-03-05T03:48:35.073038Z",
     "shell.execute_reply": "2022-03-05T03:48:35.072345Z"
    },
    "papermill": {
     "duration": 2.894079,
     "end_time": "2022-03-05T03:48:35.073178",
     "exception": false,
     "start_time": "2022-03-05T03:48:32.179099",
     "status": "completed"
    },
    "tags": []
   },
   "outputs": [],
   "source": [
    "from sklearn.preprocessing import OneHotEncoder\n",
    "\n",
    "# 명목형 피처\n",
    "cat_features = [feature for feature in all_features if 'cat' in feature] \n",
    "\n",
    "# 원-핫 인코딩 적용\n",
    "onehot_encoder = OneHotEncoder()\n",
    "encoded_cat_matrix = onehot_encoder.fit_transform(all_data[cat_features]) "
   ]
  },
  {
   "cell_type": "markdown",
   "id": "9568ed61",
   "metadata": {
    "papermill": {
     "duration": 0.025345,
     "end_time": "2022-03-05T03:48:35.123736",
     "exception": false,
     "start_time": "2022-03-05T03:48:35.098391",
     "status": "completed"
    },
    "tags": []
   },
   "source": [
    "### *파생 피처 추가"
   ]
  },
  {
   "cell_type": "code",
   "execution_count": 4,
   "id": "2e424324",
   "metadata": {
    "execution": {
     "iopub.execute_input": "2022-03-05T03:48:35.181133Z",
     "iopub.status.busy": "2022-03-05T03:48:35.180481Z",
     "iopub.status.idle": "2022-03-05T03:48:35.368287Z",
     "shell.execute_reply": "2022-03-05T03:48:35.368756Z"
    },
    "papermill": {
     "duration": 0.220075,
     "end_time": "2022-03-05T03:48:35.368954",
     "exception": false,
     "start_time": "2022-03-05T03:48:35.148879",
     "status": "completed"
    },
    "tags": []
   },
   "outputs": [],
   "source": [
    "# '데이터 하나당 결측값 개수'를 파생 피처로 추가\n",
    "all_data['num_missing'] = (all_data==-1).sum(axis=1)"
   ]
  },
  {
   "cell_type": "markdown",
   "id": "db365720",
   "metadata": {},
   "source": [
    "결측값이 예측에 도움이 될 수도 있다 ⇒ 버리지 않고 파생 피처로 활용할 수 있음"
   ]
  },
  {
   "cell_type": "code",
   "execution_count": 5,
   "id": "061c6768",
   "metadata": {
    "execution": {
     "iopub.execute_input": "2022-03-05T03:48:35.423357Z",
     "iopub.status.busy": "2022-03-05T03:48:35.422696Z",
     "iopub.status.idle": "2022-03-05T03:48:35.427613Z",
     "shell.execute_reply": "2022-03-05T03:48:35.427140Z"
    },
    "papermill": {
     "duration": 0.033432,
     "end_time": "2022-03-05T03:48:35.427743",
     "exception": false,
     "start_time": "2022-03-05T03:48:35.394311",
     "status": "completed"
    },
    "tags": []
   },
   "outputs": [],
   "source": [
    "# 명목형 피처, calc 분류의 피처를 제외한 피처\n",
    "remaining_features = [feature for feature in all_features\n",
    "                      if ('cat' not in feature and 'calc' not in feature)] \n",
    "# num_missing을 remaining_features에 추가\n",
    "remaining_features.append('num_missing')"
   ]
  },
  {
   "cell_type": "code",
   "execution_count": 6,
   "id": "b74c9e24",
   "metadata": {
    "execution": {
     "iopub.execute_input": "2022-03-05T03:48:35.486593Z",
     "iopub.status.busy": "2022-03-05T03:48:35.485847Z",
     "iopub.status.idle": "2022-03-05T03:49:17.561473Z",
     "shell.execute_reply": "2022-03-05T03:49:17.560862Z"
    },
    "papermill": {
     "duration": 42.107744,
     "end_time": "2022-03-05T03:49:17.561621",
     "exception": false,
     "start_time": "2022-03-05T03:48:35.453877",
     "status": "completed"
    },
    "tags": []
   },
   "outputs": [],
   "source": [
    "# 분류가 ind인 피처\n",
    "ind_features = [feature for feature in all_features if 'ind' in feature]\n",
    "\n",
    "is_first_feature = True\n",
    "for ind_feature in ind_features:\n",
    "    if is_first_feature:\n",
    "        all_data['mix_ind'] = all_data[ind_feature].astype(str) + '_'\n",
    "        is_first_feature = False\n",
    "    else:\n",
    "        all_data['mix_ind'] += all_data[ind_feature].astype(str) + '_'"
   ]
  },
  {
   "cell_type": "code",
   "execution_count": 7,
   "id": "e099ce31",
   "metadata": {
    "execution": {
     "iopub.execute_input": "2022-03-05T03:49:17.623368Z",
     "iopub.status.busy": "2022-03-05T03:49:17.622578Z",
     "iopub.status.idle": "2022-03-05T03:49:17.626195Z",
     "shell.execute_reply": "2022-03-05T03:49:17.626666Z"
    },
    "papermill": {
     "duration": 0.039495,
     "end_time": "2022-03-05T03:49:17.626827",
     "exception": false,
     "start_time": "2022-03-05T03:49:17.587332",
     "status": "completed"
    },
    "tags": []
   },
   "outputs": [
    {
     "data": {
      "text/plain": [
       "0          2_2_5_1_0_0_1_0_0_0_0_0_0_0_11_0_1_0_\n",
       "1           1_1_7_0_0_0_0_1_0_0_0_0_0_0_3_0_0_1_\n",
       "2          5_4_9_1_0_0_0_1_0_0_0_0_0_0_12_1_0_0_\n",
       "3           0_1_2_0_0_1_0_0_0_0_0_0_0_0_8_1_0_0_\n",
       "4           0_2_0_1_0_1_0_0_0_0_0_0_0_0_9_1_0_0_\n",
       "                           ...                  \n",
       "1488023     0_1_6_0_0_0_1_0_0_0_0_0_0_0_2_0_0_1_\n",
       "1488024    5_3_5_1_0_0_0_1_0_0_0_0_0_0_11_1_0_0_\n",
       "1488025     0_1_5_0_0_1_0_0_0_0_0_0_0_0_5_0_0_1_\n",
       "1488026    6_1_5_1_0_0_0_0_1_0_0_0_0_0_13_1_0_0_\n",
       "1488027    7_1_4_1_0_0_0_0_1_0_0_0_0_0_12_1_0_0_\n",
       "Name: mix_ind, Length: 1488028, dtype: object"
      ]
     },
     "execution_count": 7,
     "metadata": {},
     "output_type": "execute_result"
    }
   ],
   "source": [
    "all_data['mix_ind']"
   ]
  },
  {
   "cell_type": "code",
   "execution_count": 8,
   "id": "029beae5",
   "metadata": {
    "execution": {
     "iopub.execute_input": "2022-03-05T03:49:17.694351Z",
     "iopub.status.busy": "2022-03-05T03:49:17.693638Z",
     "iopub.status.idle": "2022-03-05T03:49:31.590108Z",
     "shell.execute_reply": "2022-03-05T03:49:31.589514Z"
    },
    "papermill": {
     "duration": 13.937105,
     "end_time": "2022-03-05T03:49:31.590254",
     "exception": false,
     "start_time": "2022-03-05T03:49:17.653149",
     "status": "completed"
    },
    "tags": []
   },
   "outputs": [],
   "source": [
    "cat_count_features = []\n",
    "for feature in cat_features+['mix_ind']:\n",
    "    val_counts_dict = all_data[feature].value_counts().to_dict()\n",
    "    all_data[f'{feature}_count'] = all_data[feature].apply(lambda x: \n",
    "                                                           val_counts_dict[x])\n",
    "    cat_count_features.append(f'{feature}_count')"
   ]
  },
  {
   "cell_type": "markdown",
   "id": "5730b8aa",
   "metadata": {},
   "source": [
    "value_counts() : 고윳값에 대한 정보를 파생변수로 넘겨줄 수 있음"
   ]
  },
  {
   "cell_type": "code",
   "execution_count": 9,
   "id": "1c8a2b74",
   "metadata": {
    "execution": {
     "iopub.execute_input": "2022-03-05T03:49:31.648451Z",
     "iopub.status.busy": "2022-03-05T03:49:31.647692Z",
     "iopub.status.idle": "2022-03-05T03:49:31.650590Z",
     "shell.execute_reply": "2022-03-05T03:49:31.651107Z"
    },
    "papermill": {
     "duration": 0.034647,
     "end_time": "2022-03-05T03:49:31.651273",
     "exception": false,
     "start_time": "2022-03-05T03:49:31.616626",
     "status": "completed"
    },
    "tags": []
   },
   "outputs": [
    {
     "data": {
      "text/plain": [
       "['ps_ind_02_cat_count',\n",
       " 'ps_ind_04_cat_count',\n",
       " 'ps_ind_05_cat_count',\n",
       " 'ps_car_01_cat_count',\n",
       " 'ps_car_02_cat_count',\n",
       " 'ps_car_03_cat_count',\n",
       " 'ps_car_04_cat_count',\n",
       " 'ps_car_05_cat_count',\n",
       " 'ps_car_06_cat_count',\n",
       " 'ps_car_07_cat_count',\n",
       " 'ps_car_08_cat_count',\n",
       " 'ps_car_09_cat_count',\n",
       " 'ps_car_10_cat_count',\n",
       " 'ps_car_11_cat_count',\n",
       " 'mix_ind_count']"
      ]
     },
     "execution_count": 9,
     "metadata": {},
     "output_type": "execute_result"
    }
   ],
   "source": [
    "cat_count_features"
   ]
  },
  {
   "cell_type": "markdown",
   "id": "7ae2bdad",
   "metadata": {
    "papermill": {
     "duration": 0.026399,
     "end_time": "2022-03-05T03:49:31.704376",
     "exception": false,
     "start_time": "2022-03-05T03:49:31.677977",
     "status": "completed"
    },
    "tags": []
   },
   "source": [
    "### 필요 없는 피처 제거"
   ]
  },
  {
   "cell_type": "code",
   "execution_count": null,
   "id": "3c2ee1dc",
   "metadata": {
    "execution": {
     "iopub.execute_input": "2022-03-05T03:49:31.764965Z",
     "iopub.status.busy": "2022-03-05T03:49:31.764302Z",
     "iopub.status.idle": "2022-03-05T03:49:37.213395Z",
     "shell.execute_reply": "2022-03-05T03:49:37.212749Z"
    },
    "papermill": {
     "duration": 5.481945,
     "end_time": "2022-03-05T03:49:37.213544",
     "exception": false,
     "start_time": "2022-03-05T03:49:31.731599",
     "status": "completed"
    },
    "tags": []
   },
   "outputs": [],
   "source": [
    "from scipy import sparse\n",
    "# 필요 없는 피처들\n",
    "drop_features = ['ps_ind_10', 'ps_ind_11', 'ps_ind_13'\n",
    "                 'ps_ind_14', 'ps_ind_10_bin', 'ps_ind_11_bin', \n",
    "                 'ps_ind_12_bin', 'ps_ind_13_bin', 'ps_car_14']\n",
    "\n",
    "# remaining_features, cat_count_features에서 drop_features를 제거한 데이터\n",
    "all_data_remaining = all_data[remaining_features+cat_count_features].drop(drop_features, axis=1)\n",
    "\n",
    "# 데이터 합치기\n",
    "all_data_sprs = sparse.hstack([sparse.csr_matrix(all_data_remaining),\n",
    "                               encoded_cat_matrix],\n",
    "                              format='csr')"
   ]
  },
  {
   "cell_type": "markdown",
   "id": "2dd6b655",
   "metadata": {
    "papermill": {
     "duration": 0.026899,
     "end_time": "2022-03-05T03:49:37.269155",
     "exception": false,
     "start_time": "2022-03-05T03:49:37.242256",
     "status": "completed"
    },
    "tags": []
   },
   "source": [
    "### 데이터 나누기"
   ]
  },
  {
   "cell_type": "code",
   "execution_count": 11,
   "id": "df07d3ad",
   "metadata": {
    "execution": {
     "iopub.execute_input": "2022-03-05T03:49:37.328599Z",
     "iopub.status.busy": "2022-03-05T03:49:37.327866Z",
     "iopub.status.idle": "2022-03-05T03:49:38.272086Z",
     "shell.execute_reply": "2022-03-05T03:49:38.271505Z"
    },
    "papermill": {
     "duration": 0.976002,
     "end_time": "2022-03-05T03:49:38.272230",
     "exception": false,
     "start_time": "2022-03-05T03:49:37.296228",
     "status": "completed"
    },
    "tags": []
   },
   "outputs": [],
   "source": [
    "num_train = len(train) # 훈련 데이터 개수\n",
    "\n",
    "# 훈련 데이터와 테스트 데이터 나누기\n",
    "X = all_data_sprs[:num_train]\n",
    "X_test = all_data_sprs[num_train:]\n",
    "\n",
    "y = train['target'].values"
   ]
  },
  {
   "cell_type": "markdown",
   "id": "89c78b1f",
   "metadata": {
    "papermill": {
     "duration": 0.026901,
     "end_time": "2022-03-05T03:49:38.326262",
     "exception": false,
     "start_time": "2022-03-05T03:49:38.299361",
     "status": "completed"
    },
    "tags": []
   },
   "source": [
    "### 정규화 지니계수 계산 함수"
   ]
  },
  {
   "cell_type": "code",
   "execution_count": 12,
   "id": "100928cd",
   "metadata": {
    "execution": {
     "iopub.execute_input": "2022-03-05T03:49:38.389004Z",
     "iopub.status.busy": "2022-03-05T03:49:38.388277Z",
     "iopub.status.idle": "2022-03-05T03:49:38.391481Z",
     "shell.execute_reply": "2022-03-05T03:49:38.390954Z"
    },
    "papermill": {
     "duration": 0.038423,
     "end_time": "2022-03-05T03:49:38.391618",
     "exception": false,
     "start_time": "2022-03-05T03:49:38.353195",
     "status": "completed"
    },
    "tags": []
   },
   "outputs": [],
   "source": [
    "import numpy as np\n",
    "\n",
    "def eval_gini(y_true, y_pred):\n",
    "    # 실제값과 예측값의 크기가 같은지 확인 (값이 다르면 오류 발생)\n",
    "    assert y_true.shape == y_pred.shape\n",
    "\n",
    "    n_samples = y_true.shape[0]                      # 데이터 개수\n",
    "    L_mid = np.linspace(1 / n_samples, 1, n_samples) # 대각선 값\n",
    "\n",
    "    # 1) 예측값에 대한 지니계수\n",
    "    pred_order = y_true[y_pred.argsort()] # y_pred 크기순으로 y_true 값 정렬\n",
    "    L_pred = np.cumsum(pred_order) / np.sum(pred_order) # 로렌츠 곡선\n",
    "    G_pred = np.sum(L_mid - L_pred)       # 예측 값에 대한 지니계수\n",
    "\n",
    "    # 2) 예측이 완벽할 때 지니계수\n",
    "    true_order = y_true[y_true.argsort()] # y_true 크기순으로 y_true 값 정렬\n",
    "    L_true = np.cumsum(true_order) / np.sum(true_order) # 로렌츠 곡선\n",
    "    G_true = np.sum(L_mid - L_true)       # 예측이 완벽할 때 지니계수\n",
    "\n",
    "    # 정규화된 지니계수\n",
    "    return G_pred / G_true"
   ]
  },
  {
   "cell_type": "code",
   "execution_count": 13,
   "id": "359acca5",
   "metadata": {
    "execution": {
     "iopub.execute_input": "2022-03-05T03:49:38.451223Z",
     "iopub.status.busy": "2022-03-05T03:49:38.450538Z",
     "iopub.status.idle": "2022-03-05T03:49:38.452988Z",
     "shell.execute_reply": "2022-03-05T03:49:38.452388Z"
    },
    "papermill": {
     "duration": 0.034474,
     "end_time": "2022-03-05T03:49:38.453119",
     "exception": false,
     "start_time": "2022-03-05T03:49:38.418645",
     "status": "completed"
    },
    "tags": []
   },
   "outputs": [],
   "source": [
    "# LightGBM용 gini() 함수\n",
    "def gini(preds, dtrain):\n",
    "    labels = dtrain.get_label()\n",
    "    return 'gini', eval_gini(labels, preds), True # 반환값"
   ]
  },
  {
   "cell_type": "markdown",
   "id": "e8f8c140",
   "metadata": {
    "papermill": {
     "duration": 0.02718,
     "end_time": "2022-03-05T03:49:38.507521",
     "exception": false,
     "start_time": "2022-03-05T03:49:38.480341",
     "status": "completed"
    },
    "tags": []
   },
   "source": [
    "## 8.4.2 하이퍼파라미터 최적화"
   ]
  },
  {
   "cell_type": "markdown",
   "id": "e7cac950",
   "metadata": {
    "papermill": {
     "duration": 0.027545,
     "end_time": "2022-03-05T03:49:38.562073",
     "exception": false,
     "start_time": "2022-03-05T03:49:38.534528",
     "status": "completed"
    },
    "tags": []
   },
   "source": [
    "### 데이터셋 준비"
   ]
  },
  {
   "cell_type": "code",
   "execution_count": 14,
   "id": "f606c000",
   "metadata": {
    "execution": {
     "iopub.execute_input": "2022-03-05T03:49:38.622789Z",
     "iopub.status.busy": "2022-03-05T03:49:38.622143Z",
     "iopub.status.idle": "2022-03-05T03:49:39.993807Z",
     "shell.execute_reply": "2022-03-05T03:49:39.994305Z"
    },
    "papermill": {
     "duration": 1.405348,
     "end_time": "2022-03-05T03:49:39.994500",
     "exception": false,
     "start_time": "2022-03-05T03:49:38.589152",
     "status": "completed"
    },
    "tags": []
   },
   "outputs": [
    {
     "data": {
      "text/html": [
       "<style type='text/css'>\n",
       ".datatable table.frame { margin-bottom: 0; }\n",
       ".datatable table.frame thead { border-bottom: none; }\n",
       ".datatable table.frame tr.coltypes td {  color: #FFFFFF;  line-height: 6px;  padding: 0 0.5em;}\n",
       ".datatable .bool    { background: #DDDD99; }\n",
       ".datatable .object  { background: #565656; }\n",
       ".datatable .int     { background: #5D9E5D; }\n",
       ".datatable .float   { background: #4040CC; }\n",
       ".datatable .str     { background: #CC4040; }\n",
       ".datatable .time    { background: #40CC40; }\n",
       ".datatable .row_index {  background: var(--jp-border-color3);  border-right: 1px solid var(--jp-border-color0);  color: var(--jp-ui-font-color3);  font-size: 9px;}\n",
       ".datatable .frame tbody td { text-align: left; }\n",
       ".datatable .frame tr.coltypes .row_index {  background: var(--jp-border-color0);}\n",
       ".datatable th:nth-child(2) { padding-left: 12px; }\n",
       ".datatable .hellipsis {  color: var(--jp-cell-editor-border-color);}\n",
       ".datatable .vellipsis {  background: var(--jp-layout-color0);  color: var(--jp-cell-editor-border-color);}\n",
       ".datatable .na {  color: var(--jp-cell-editor-border-color);  font-size: 80%;}\n",
       ".datatable .sp {  opacity: 0.25;}\n",
       ".datatable .footer { font-size: 9px; }\n",
       ".datatable .frame_dimensions {  background: var(--jp-border-color3);  border-top: 1px solid var(--jp-border-color0);  color: var(--jp-ui-font-color3);  display: inline-block;  opacity: 0.6;  padding: 1px 10px 1px 5px;}\n",
       "</style>\n"
      ],
      "text/plain": [
       "<IPython.core.display.HTML object>"
      ]
     },
     "metadata": {},
     "output_type": "display_data"
    }
   ],
   "source": [
    "import lightgbm as lgb\n",
    "from sklearn.model_selection import train_test_split\n",
    "\n",
    "# 8:2 비율로 훈련 데이터, 검증 데이터 분리 (베이지안 최적화 수행용)\n",
    "X_train, X_valid, y_train, y_valid = train_test_split(X, y, \n",
    "                                                      test_size=0.2, \n",
    "                                                      random_state=0)\n",
    "\n",
    "# 베이지안 최적화용 데이터셋\n",
    "bayes_dtrain = lgb.Dataset(X_train, y_train)\n",
    "bayes_dvalid = lgb.Dataset(X_valid, y_valid)"
   ]
  },
  {
   "cell_type": "markdown",
   "id": "55e6ce5e",
   "metadata": {
    "papermill": {
     "duration": 0.029051,
     "end_time": "2022-03-05T03:49:40.052415",
     "exception": false,
     "start_time": "2022-03-05T03:49:40.023364",
     "status": "completed"
    },
    "tags": []
   },
   "source": [
    "### 하이퍼파라미터 범위 설정"
   ]
  },
  {
   "cell_type": "code",
   "execution_count": 15,
   "id": "747b80a6",
   "metadata": {
    "execution": {
     "iopub.execute_input": "2022-03-05T03:49:40.114996Z",
     "iopub.status.busy": "2022-03-05T03:49:40.114299Z",
     "iopub.status.idle": "2022-03-05T03:49:40.116910Z",
     "shell.execute_reply": "2022-03-05T03:49:40.116303Z"
    },
    "papermill": {
     "duration": 0.036559,
     "end_time": "2022-03-05T03:49:40.117050",
     "exception": false,
     "start_time": "2022-03-05T03:49:40.080491",
     "status": "completed"
    },
    "tags": []
   },
   "outputs": [],
   "source": [
    "# 베이지안 최적화를 위한 하이퍼파라미터 범위\n",
    "param_bounds = {'num_leaves': (30, 40),\n",
    "                'lambda_l1': (0.7, 0.9),\n",
    "                'lambda_l2': (0.9, 1),\n",
    "                'feature_fraction': (0.6, 0.7),\n",
    "                'bagging_fraction': (0.6, 0.9),\n",
    "                'min_child_samples': (6, 10),\n",
    "                'min_child_weight': (10, 40)}\n",
    "\n",
    "# 값이 고정된 하이퍼파라미터\n",
    "fixed_params = {'objective': 'binary',\n",
    "                'learning_rate': 0.005,\n",
    "                'bagging_freq': 1,\n",
    "                'force_row_wise': True,\n",
    "                'random_state': 1991}"
   ]
  },
  {
   "cell_type": "markdown",
   "id": "b1ae41dc",
   "metadata": {
    "papermill": {
     "duration": 0.028191,
     "end_time": "2022-03-05T03:49:40.173208",
     "exception": false,
     "start_time": "2022-03-05T03:49:40.145017",
     "status": "completed"
    },
    "tags": []
   },
   "source": [
    "### (베이지안 최적화용) 평가지표 계산 함수 작성"
   ]
  },
  {
   "cell_type": "code",
   "execution_count": 16,
   "id": "a25133dc",
   "metadata": {
    "execution": {
     "iopub.execute_input": "2022-03-05T03:49:40.238583Z",
     "iopub.status.busy": "2022-03-05T03:49:40.237924Z",
     "iopub.status.idle": "2022-03-05T03:49:40.240791Z",
     "shell.execute_reply": "2022-03-05T03:49:40.240211Z"
    },
    "papermill": {
     "duration": 0.039692,
     "end_time": "2022-03-05T03:49:40.240942",
     "exception": false,
     "start_time": "2022-03-05T03:49:40.201250",
     "status": "completed"
    },
    "tags": []
   },
   "outputs": [],
   "source": [
    "def eval_function(num_leaves, lambda_l1, lambda_l2, feature_fraction,\n",
    "                  bagging_fraction, min_child_samples, min_child_weight):\n",
    "    '''최적화하려는 평가지표(지니계수) 계산 함수'''\n",
    "    \n",
    "    # 베이지안 최적화를 수행할 하이퍼파라미터 \n",
    "    params = {'num_leaves': int(round(num_leaves)),\n",
    "              'lambda_l1': lambda_l1,\n",
    "              'lambda_l2': lambda_l2,\n",
    "              'feature_fraction': feature_fraction,\n",
    "              'bagging_fraction': bagging_fraction,\n",
    "              'min_child_samples': int(round(min_child_samples)),\n",
    "              'min_child_weight': min_child_weight,\n",
    "              'feature_pre_filter': False}\n",
    "    # 고정된 하이퍼파라미터도 추가\n",
    "    params.update(fixed_params)\n",
    "    \n",
    "    print('하이퍼파라미터:', params)    \n",
    "    \n",
    "    # LightGBM 모델 훈련\n",
    "    lgb_model = lgb.train(params=params, \n",
    "                           train_set=bayes_dtrain,\n",
    "                           num_boost_round=2500,\n",
    "                           valid_sets=bayes_dvalid,\n",
    "                           feval=gini,\n",
    "                           early_stopping_rounds=300,\n",
    "                           verbose_eval=False)\n",
    "    # 검증 데이터로 예측 수행\n",
    "    preds = lgb_model.predict(X_valid) \n",
    "    # 지니계수 계산\n",
    "    gini_score = eval_gini(y_valid, preds)\n",
    "    print(f'지니계수 : {gini_score}\\n')\n",
    "    \n",
    "    return gini_score"
   ]
  },
  {
   "cell_type": "markdown",
   "id": "59c39b79",
   "metadata": {
    "papermill": {
     "duration": 0.027714,
     "end_time": "2022-03-05T03:49:40.296773",
     "exception": false,
     "start_time": "2022-03-05T03:49:40.269059",
     "status": "completed"
    },
    "tags": []
   },
   "source": [
    "### 최적화 수행"
   ]
  },
  {
   "cell_type": "code",
   "execution_count": 17,
   "id": "5aa9821d",
   "metadata": {
    "execution": {
     "iopub.execute_input": "2022-03-05T03:49:40.358647Z",
     "iopub.status.busy": "2022-03-05T03:49:40.357968Z",
     "iopub.status.idle": "2022-03-05T03:49:40.381470Z",
     "shell.execute_reply": "2022-03-05T03:49:40.380863Z"
    },
    "papermill": {
     "duration": 0.05651,
     "end_time": "2022-03-05T03:49:40.381633",
     "exception": false,
     "start_time": "2022-03-05T03:49:40.325123",
     "status": "completed"
    },
    "tags": []
   },
   "outputs": [],
   "source": [
    "from bayes_opt import BayesianOptimization\n",
    "\n",
    "# 베이지안 최적화 객체 생성\n",
    "optimizer = BayesianOptimization(f=eval_function,      # 평가지표 계산 함수\n",
    "                                 pbounds=param_bounds, # 하이퍼파라미터 범위\n",
    "                                 random_state=0)"
   ]
  },
  {
   "cell_type": "code",
   "execution_count": 18,
   "id": "ad28b2a0",
   "metadata": {
    "execution": {
     "iopub.execute_input": "2022-03-05T03:49:40.446471Z",
     "iopub.status.busy": "2022-03-05T03:49:40.445688Z",
     "iopub.status.idle": "2022-03-05T04:18:29.203230Z",
     "shell.execute_reply": "2022-03-05T04:18:29.203792Z"
    },
    "papermill": {
     "duration": 1728.7934,
     "end_time": "2022-03-05T04:18:29.204178",
     "exception": false,
     "start_time": "2022-03-05T03:49:40.410778",
     "status": "completed"
    },
    "tags": []
   },
   "outputs": [
    {
     "name": "stdout",
     "output_type": "stream",
     "text": [
      "|   iter    |  target   | baggin... | featur... | lambda_l1 | lambda_l2 | min_ch... | min_ch... | num_le... |\n",
      "-------------------------------------------------------------------------------------------------------------\n",
      "하이퍼파라미터: {'num_leaves': 34, 'lambda_l1': 0.8205526752143287, 'lambda_l2': 0.9544883182996897, 'feature_fraction': 0.6715189366372419, 'bagging_fraction': 0.7646440511781974, 'min_child_samples': 8, 'min_child_weight': 29.376823391999682, 'feature_pre_filter': False, 'objective': 'binary', 'learning_rate': 0.005, 'bagging_freq': 1, 'force_row_wise': True, 'random_state': 1991}\n",
      "[LightGBM] [Info] Number of positive: 17383, number of negative: 458786\n",
      "[LightGBM] [Info] Total Bins 1555\n",
      "[LightGBM] [Info] Number of data points in the train set: 476169, number of used features: 217\n",
      "[LightGBM] [Info] [binary:BoostFromScore]: pavg=0.036506 -> initscore=-3.273091\n",
      "[LightGBM] [Info] Start training from score -3.273091\n",
      "지니계수 : 0.2855811556220905\n",
      "\n",
      "| \u001b[0m 1       \u001b[0m | \u001b[0m 0.2856  \u001b[0m | \u001b[0m 0.7646  \u001b[0m | \u001b[0m 0.6715  \u001b[0m | \u001b[0m 0.8206  \u001b[0m | \u001b[0m 0.9545  \u001b[0m | \u001b[0m 7.695   \u001b[0m | \u001b[0m 29.38   \u001b[0m | \u001b[0m 34.38   \u001b[0m |\n",
      "하이퍼파라미터: {'num_leaves': 39, 'lambda_l1': 0.7766883037651555, 'lambda_l2': 0.9791725038082665, 'feature_fraction': 0.6963662760501029, 'bagging_fraction': 0.867531900234624, 'min_child_samples': 8, 'min_child_weight': 27.04133683281797, 'feature_pre_filter': False, 'objective': 'binary', 'learning_rate': 0.005, 'bagging_freq': 1, 'force_row_wise': True, 'random_state': 1991}\n",
      "[LightGBM] [Info] Number of positive: 17383, number of negative: 458786\n",
      "[LightGBM] [Info] Total Bins 1555\n",
      "[LightGBM] [Info] Number of data points in the train set: 476169, number of used features: 217\n",
      "[LightGBM] [Info] [binary:BoostFromScore]: pavg=0.036506 -> initscore=-3.273091\n",
      "[LightGBM] [Info] Start training from score -3.273091\n",
      "지니계수 : 0.2837380537005777\n",
      "\n",
      "| \u001b[0m 2       \u001b[0m | \u001b[0m 0.2837  \u001b[0m | \u001b[0m 0.8675  \u001b[0m | \u001b[0m 0.6964  \u001b[0m | \u001b[0m 0.7767  \u001b[0m | \u001b[0m 0.9792  \u001b[0m | \u001b[0m 8.116   \u001b[0m | \u001b[0m 27.04   \u001b[0m | \u001b[0m 39.26   \u001b[0m |\n",
      "하이퍼파라미터: {'num_leaves': 40, 'lambda_l1': 0.7040436794880651, 'lambda_l2': 0.9832619845547939, 'feature_fraction': 0.608712929970154, 'bagging_fraction': 0.6213108174593661, 'min_child_samples': 9, 'min_child_weight': 36.10036444740457, 'feature_pre_filter': False, 'objective': 'binary', 'learning_rate': 0.005, 'bagging_freq': 1, 'force_row_wise': True, 'random_state': 1991}\n",
      "[LightGBM] [Info] Number of positive: 17383, number of negative: 458786\n",
      "[LightGBM] [Info] Total Bins 1555\n",
      "[LightGBM] [Info] Number of data points in the train set: 476169, number of used features: 217\n",
      "[LightGBM] [Info] [binary:BoostFromScore]: pavg=0.036506 -> initscore=-3.273091\n",
      "[LightGBM] [Info] Start training from score -3.273091\n",
      "지니계수 : 0.2857848354322048\n",
      "\n",
      "| \u001b[95m 3       \u001b[0m | \u001b[95m 0.2858  \u001b[0m | \u001b[95m 0.6213  \u001b[0m | \u001b[95m 0.6087  \u001b[0m | \u001b[95m 0.704   \u001b[0m | \u001b[95m 0.9833  \u001b[0m | \u001b[95m 9.113   \u001b[0m | \u001b[95m 36.1    \u001b[0m | \u001b[95m 39.79   \u001b[0m |\n",
      "하이퍼파라미터: {'num_leaves': 30, 'lambda_l1': 0.8444997594874222, 'lambda_l2': 0.9234023852202012, 'feature_fraction': 0.6593983245038058, 'bagging_fraction': 0.8977977822397395, 'min_child_samples': 9, 'min_child_weight': 10.549362495448534, 'feature_pre_filter': False, 'objective': 'binary', 'learning_rate': 0.005, 'bagging_freq': 1, 'force_row_wise': True, 'random_state': 1991}\n",
      "[LightGBM] [Info] Number of positive: 17383, number of negative: 458786\n",
      "[LightGBM] [Info] Total Bins 1555\n",
      "[LightGBM] [Info] Number of data points in the train set: 476169, number of used features: 217\n",
      "[LightGBM] [Info] [binary:BoostFromScore]: pavg=0.036506 -> initscore=-3.273091\n",
      "[LightGBM] [Info] Start training from score -3.273091\n",
      "지니계수 : 0.2828993761731121\n",
      "\n",
      "| \u001b[0m 4       \u001b[0m | \u001b[0m 0.2829  \u001b[0m | \u001b[0m 0.8978  \u001b[0m | \u001b[0m 0.6594  \u001b[0m | \u001b[0m 0.8445  \u001b[0m | \u001b[0m 0.9234  \u001b[0m | \u001b[0m 8.619   \u001b[0m | \u001b[0m 10.55   \u001b[0m | \u001b[0m 30.09   \u001b[0m |\n",
      "하이퍼파라미터: {'num_leaves': 37, 'lambda_l1': 0.7738449330497988, 'lambda_l2': 0.9032695189818599, 'feature_fraction': 0.6606341064409726, 'bagging_fraction': 0.7666713964943057, 'min_child_samples': 9, 'min_child_weight': 29.306172421380474, 'feature_pre_filter': False, 'objective': 'binary', 'learning_rate': 0.005, 'bagging_freq': 1, 'force_row_wise': True, 'random_state': 1991}\n",
      "[LightGBM] [Info] Number of positive: 17383, number of negative: 458786\n",
      "[LightGBM] [Info] Total Bins 1555\n",
      "[LightGBM] [Info] Number of data points in the train set: 476169, number of used features: 217\n",
      "[LightGBM] [Info] [binary:BoostFromScore]: pavg=0.036506 -> initscore=-3.273091\n",
      "[LightGBM] [Info] Start training from score -3.273091\n",
      "지니계수 : 0.28513273331754563\n",
      "\n",
      "| \u001b[0m 5       \u001b[0m | \u001b[0m 0.2851  \u001b[0m | \u001b[0m 0.7667  \u001b[0m | \u001b[0m 0.6606  \u001b[0m | \u001b[0m 0.7738  \u001b[0m | \u001b[0m 0.9033  \u001b[0m | \u001b[0m 8.769   \u001b[0m | \u001b[0m 29.31   \u001b[0m | \u001b[0m 36.6    \u001b[0m |\n",
      "하이퍼파라미터: {'num_leaves': 33, 'lambda_l1': 0.8781371569203059, 'lambda_l2': 0.9, 'feature_fraction': 0.6949291823969249, 'bagging_fraction': 0.6580770160451177, 'min_child_samples': 10, 'min_child_weight': 35.85661117604572, 'feature_pre_filter': False, 'objective': 'binary', 'learning_rate': 0.005, 'bagging_freq': 1, 'force_row_wise': True, 'random_state': 1991}\n",
      "[LightGBM] [Info] Number of positive: 17383, number of negative: 458786\n",
      "[LightGBM] [Info] Total Bins 1555\n",
      "[LightGBM] [Info] Number of data points in the train set: 476169, number of used features: 217\n",
      "[LightGBM] [Info] [binary:BoostFromScore]: pavg=0.036506 -> initscore=-3.273091\n",
      "[LightGBM] [Info] Start training from score -3.273091\n",
      "지니계수 : 0.2853170766671574\n",
      "\n",
      "| \u001b[0m 6       \u001b[0m | \u001b[0m 0.2853  \u001b[0m | \u001b[0m 0.6581  \u001b[0m | \u001b[0m 0.6949  \u001b[0m | \u001b[0m 0.8781  \u001b[0m | \u001b[0m 0.9     \u001b[0m | \u001b[0m 9.826   \u001b[0m | \u001b[0m 35.86   \u001b[0m | \u001b[0m 32.8    \u001b[0m |\n",
      "하이퍼파라미터: {'num_leaves': 37, 'lambda_l1': 0.8433793375135147, 'lambda_l2': 0.9479651949974717, 'feature_fraction': 0.6859622896374784, 'bagging_fraction': 0.8362539818721497, 'min_child_samples': 6, 'min_child_weight': 39.77484183530247, 'feature_pre_filter': False, 'objective': 'binary', 'learning_rate': 0.005, 'bagging_freq': 1, 'force_row_wise': True, 'random_state': 1991}\n",
      "[LightGBM] [Info] Number of positive: 17383, number of negative: 458786\n",
      "[LightGBM] [Info] Total Bins 1555\n",
      "[LightGBM] [Info] Number of data points in the train set: 476169, number of used features: 217\n",
      "[LightGBM] [Info] [binary:BoostFromScore]: pavg=0.036506 -> initscore=-3.273091\n",
      "[LightGBM] [Info] Start training from score -3.273091\n",
      "지니계수 : 0.2854766974907317\n",
      "\n",
      "| \u001b[0m 7       \u001b[0m | \u001b[0m 0.2855  \u001b[0m | \u001b[0m 0.8363  \u001b[0m | \u001b[0m 0.686   \u001b[0m | \u001b[0m 0.8434  \u001b[0m | \u001b[0m 0.948   \u001b[0m | \u001b[0m 6.002   \u001b[0m | \u001b[0m 39.77   \u001b[0m | \u001b[0m 36.8    \u001b[0m |\n",
      "하이퍼파라미터: {'num_leaves': 30, 'lambda_l1': 0.7, 'lambda_l2': 0.9, 'feature_fraction': 0.7, 'bagging_fraction': 0.6, 'min_child_samples': 10, 'min_child_weight': 27.93092783176277, 'feature_pre_filter': False, 'objective': 'binary', 'learning_rate': 0.005, 'bagging_freq': 1, 'force_row_wise': True, 'random_state': 1991}\n",
      "[LightGBM] [Info] Number of positive: 17383, number of negative: 458786\n",
      "[LightGBM] [Info] Total Bins 1555\n",
      "[LightGBM] [Info] Number of data points in the train set: 476169, number of used features: 217\n",
      "[LightGBM] [Info] [binary:BoostFromScore]: pavg=0.036506 -> initscore=-3.273091\n",
      "[LightGBM] [Info] Start training from score -3.273091\n",
      "지니계수 : 0.2853631089269565\n",
      "\n",
      "| \u001b[0m 8       \u001b[0m | \u001b[0m 0.2854  \u001b[0m | \u001b[0m 0.6     \u001b[0m | \u001b[0m 0.7     \u001b[0m | \u001b[0m 0.7     \u001b[0m | \u001b[0m 0.9     \u001b[0m | \u001b[0m 10.0    \u001b[0m | \u001b[0m 27.93   \u001b[0m | \u001b[0m 30.0    \u001b[0m |\n",
      "하이퍼파라미터: {'num_leaves': 40, 'lambda_l1': 0.7060727349466539, 'lambda_l2': 0.9122263686184788, 'feature_fraction': 0.6, 'bagging_fraction': 0.6, 'min_child_samples': 10, 'min_child_weight': 40.0, 'feature_pre_filter': False, 'objective': 'binary', 'learning_rate': 0.005, 'bagging_freq': 1, 'force_row_wise': True, 'random_state': 1991}\n",
      "[LightGBM] [Info] Number of positive: 17383, number of negative: 458786\n",
      "[LightGBM] [Info] Total Bins 1555\n",
      "[LightGBM] [Info] Number of data points in the train set: 476169, number of used features: 217\n",
      "[LightGBM] [Info] [binary:BoostFromScore]: pavg=0.036506 -> initscore=-3.273091\n",
      "[LightGBM] [Info] Start training from score -3.273091\n",
      "지니계수 : 0.28490600502878993\n",
      "\n",
      "| \u001b[0m 9       \u001b[0m | \u001b[0m 0.2849  \u001b[0m | \u001b[0m 0.6     \u001b[0m | \u001b[0m 0.6     \u001b[0m | \u001b[0m 0.7061  \u001b[0m | \u001b[0m 0.9122  \u001b[0m | \u001b[0m 10.0    \u001b[0m | \u001b[0m 40.0    \u001b[0m | \u001b[0m 40.0    \u001b[0m |\n",
      "=============================================================================================================\n"
     ]
    }
   ],
   "source": [
    "# 베이지안 최적화 수행\n",
    "optimizer.maximize(init_points=3, n_iter=6)"
   ]
  },
  {
   "cell_type": "markdown",
   "id": "81f1732a",
   "metadata": {
    "papermill": {
     "duration": 0.035259,
     "end_time": "2022-03-05T04:18:29.274909",
     "exception": false,
     "start_time": "2022-03-05T04:18:29.239650",
     "status": "completed"
    },
    "tags": []
   },
   "source": [
    "### 결과 확인"
   ]
  },
  {
   "cell_type": "code",
   "execution_count": 19,
   "id": "2ad2d95e",
   "metadata": {
    "execution": {
     "iopub.execute_input": "2022-03-05T04:18:29.352736Z",
     "iopub.status.busy": "2022-03-05T04:18:29.352098Z",
     "iopub.status.idle": "2022-03-05T04:18:29.354949Z",
     "shell.execute_reply": "2022-03-05T04:18:29.355478Z"
    },
    "papermill": {
     "duration": 0.045493,
     "end_time": "2022-03-05T04:18:29.355643",
     "exception": false,
     "start_time": "2022-03-05T04:18:29.310150",
     "status": "completed"
    },
    "tags": []
   },
   "outputs": [
    {
     "data": {
      "text/plain": [
       "{'bagging_fraction': 0.6213108174593661,\n",
       " 'feature_fraction': 0.608712929970154,\n",
       " 'lambda_l1': 0.7040436794880651,\n",
       " 'lambda_l2': 0.9832619845547939,\n",
       " 'min_child_samples': 9.112627003799401,\n",
       " 'min_child_weight': 36.10036444740457,\n",
       " 'num_leaves': 39.78618342232764}"
      ]
     },
     "execution_count": 19,
     "metadata": {},
     "output_type": "execute_result"
    }
   ],
   "source": [
    "# 평가함수 점수가 최대일 때 하이퍼파라미터\n",
    "max_params = optimizer.max['params']\n",
    "max_params"
   ]
  },
  {
   "cell_type": "code",
   "execution_count": 20,
   "id": "352e69da",
   "metadata": {
    "execution": {
     "iopub.execute_input": "2022-03-05T04:18:29.433056Z",
     "iopub.status.busy": "2022-03-05T04:18:29.432376Z",
     "iopub.status.idle": "2022-03-05T04:18:29.435613Z",
     "shell.execute_reply": "2022-03-05T04:18:29.435090Z"
    },
    "papermill": {
     "duration": 0.043674,
     "end_time": "2022-03-05T04:18:29.435779",
     "exception": false,
     "start_time": "2022-03-05T04:18:29.392105",
     "status": "completed"
    },
    "tags": []
   },
   "outputs": [],
   "source": [
    "# 정수형 하이퍼파라미터 변환\n",
    "max_params['num_leaves'] = int(round(max_params['num_leaves']))\n",
    "max_params['min_child_samples'] = int(round(max_params['min_child_samples']))"
   ]
  },
  {
   "cell_type": "code",
   "execution_count": 21,
   "id": "da199564",
   "metadata": {
    "execution": {
     "iopub.execute_input": "2022-03-05T04:18:29.513585Z",
     "iopub.status.busy": "2022-03-05T04:18:29.512925Z",
     "iopub.status.idle": "2022-03-05T04:18:29.515916Z",
     "shell.execute_reply": "2022-03-05T04:18:29.515389Z"
    },
    "papermill": {
     "duration": 0.043568,
     "end_time": "2022-03-05T04:18:29.516076",
     "exception": false,
     "start_time": "2022-03-05T04:18:29.472508",
     "status": "completed"
    },
    "tags": []
   },
   "outputs": [],
   "source": [
    "# 값이 고정된 하이퍼파라미터 추가\n",
    "max_params.update(fixed_params)"
   ]
  },
  {
   "cell_type": "code",
   "execution_count": 22,
   "id": "1a7a8328",
   "metadata": {
    "execution": {
     "iopub.execute_input": "2022-03-05T04:18:29.594338Z",
     "iopub.status.busy": "2022-03-05T04:18:29.593643Z",
     "iopub.status.idle": "2022-03-05T04:18:29.597019Z",
     "shell.execute_reply": "2022-03-05T04:18:29.596404Z"
    },
    "papermill": {
     "duration": 0.044292,
     "end_time": "2022-03-05T04:18:29.597153",
     "exception": false,
     "start_time": "2022-03-05T04:18:29.552861",
     "status": "completed"
    },
    "tags": []
   },
   "outputs": [
    {
     "data": {
      "text/plain": [
       "{'bagging_fraction': 0.6213108174593661,\n",
       " 'feature_fraction': 0.608712929970154,\n",
       " 'lambda_l1': 0.7040436794880651,\n",
       " 'lambda_l2': 0.9832619845547939,\n",
       " 'min_child_samples': 9,\n",
       " 'min_child_weight': 36.10036444740457,\n",
       " 'num_leaves': 40,\n",
       " 'objective': 'binary',\n",
       " 'learning_rate': 0.005,\n",
       " 'bagging_freq': 1,\n",
       " 'force_row_wise': True,\n",
       " 'random_state': 1991}"
      ]
     },
     "execution_count": 22,
     "metadata": {},
     "output_type": "execute_result"
    }
   ],
   "source": [
    "max_params"
   ]
  },
  {
   "cell_type": "markdown",
   "id": "67dbd56d",
   "metadata": {
    "papermill": {
     "duration": 0.035839,
     "end_time": "2022-03-05T04:18:29.669237",
     "exception": false,
     "start_time": "2022-03-05T04:18:29.633398",
     "status": "completed"
    },
    "tags": []
   },
   "source": [
    "## 8.4.3 모델 훈련 및 성능 검증"
   ]
  },
  {
   "cell_type": "code",
   "execution_count": 23,
   "id": "1aa1aa4e",
   "metadata": {
    "execution": {
     "iopub.execute_input": "2022-03-05T04:18:29.746208Z",
     "iopub.status.busy": "2022-03-05T04:18:29.745182Z",
     "iopub.status.idle": "2022-03-05T04:41:33.071610Z",
     "shell.execute_reply": "2022-03-05T04:41:33.072183Z"
    },
    "papermill": {
     "duration": 1383.367062,
     "end_time": "2022-03-05T04:41:33.072467",
     "exception": false,
     "start_time": "2022-03-05T04:18:29.705405",
     "status": "completed"
    },
    "tags": []
   },
   "outputs": [
    {
     "name": "stdout",
     "output_type": "stream",
     "text": [
      "######################################## 폴드 1 / 폴드 5 ########################################\n",
      "[LightGBM] [Info] Number of positive: 17355, number of negative: 458814\n",
      "[LightGBM] [Info] Total Bins 1554\n",
      "[LightGBM] [Info] Number of data points in the train set: 476169, number of used features: 216\n",
      "[LightGBM] [Info] [binary:BoostFromScore]: pavg=0.036447 -> initscore=-3.274764\n",
      "[LightGBM] [Info] Start training from score -3.274764\n",
      "Training until validation scores don't improve for 300 rounds\n",
      "[100]\tvalid_0's binary_logloss: 0.154239\tvalid_0's gini: 0.270944\n",
      "[200]\tvalid_0's binary_logloss: 0.153176\tvalid_0's gini: 0.275764\n",
      "[300]\tvalid_0's binary_logloss: 0.152584\tvalid_0's gini: 0.279501\n",
      "[400]\tvalid_0's binary_logloss: 0.152222\tvalid_0's gini: 0.282893\n",
      "[500]\tvalid_0's binary_logloss: 0.151986\tvalid_0's gini: 0.286058\n",
      "[600]\tvalid_0's binary_logloss: 0.151824\tvalid_0's gini: 0.288805\n",
      "[700]\tvalid_0's binary_logloss: 0.151712\tvalid_0's gini: 0.290719\n",
      "[800]\tvalid_0's binary_logloss: 0.151622\tvalid_0's gini: 0.292581\n",
      "[900]\tvalid_0's binary_logloss: 0.151552\tvalid_0's gini: 0.294212\n",
      "[1000]\tvalid_0's binary_logloss: 0.151505\tvalid_0's gini: 0.295204\n",
      "[1100]\tvalid_0's binary_logloss: 0.151471\tvalid_0's gini: 0.295909\n",
      "[1200]\tvalid_0's binary_logloss: 0.151438\tvalid_0's gini: 0.296721\n",
      "[1300]\tvalid_0's binary_logloss: 0.151414\tvalid_0's gini: 0.297335\n",
      "[1400]\tvalid_0's binary_logloss: 0.151402\tvalid_0's gini: 0.297569\n",
      "[1500]\tvalid_0's binary_logloss: 0.15139\tvalid_0's gini: 0.297881\n",
      "[1600]\tvalid_0's binary_logloss: 0.151382\tvalid_0's gini: 0.298033\n",
      "[1700]\tvalid_0's binary_logloss: 0.151376\tvalid_0's gini: 0.298238\n",
      "[1800]\tvalid_0's binary_logloss: 0.151372\tvalid_0's gini: 0.298342\n",
      "[1900]\tvalid_0's binary_logloss: 0.151369\tvalid_0's gini: 0.298371\n",
      "[2000]\tvalid_0's binary_logloss: 0.151371\tvalid_0's gini: 0.298222\n",
      "[2100]\tvalid_0's binary_logloss: 0.151362\tvalid_0's gini: 0.298463\n",
      "[2200]\tvalid_0's binary_logloss: 0.151359\tvalid_0's gini: 0.298466\n",
      "[2300]\tvalid_0's binary_logloss: 0.151362\tvalid_0's gini: 0.298415\n",
      "[2400]\tvalid_0's binary_logloss: 0.151359\tvalid_0's gini: 0.298569\n",
      "[2500]\tvalid_0's binary_logloss: 0.151361\tvalid_0's gini: 0.298542\n",
      "Did not meet early stopping. Best iteration is:\n",
      "[2458]\tvalid_0's binary_logloss: 0.151355\tvalid_0's gini: 0.29865\n",
      "폴드 1 지니계수 : 0.2986504843987991\n",
      "\n",
      "######################################## 폴드 2 / 폴드 5 ########################################\n",
      "[LightGBM] [Info] Number of positive: 17355, number of negative: 458814\n",
      "[LightGBM] [Info] Total Bins 1560\n",
      "[LightGBM] [Info] Number of data points in the train set: 476169, number of used features: 216\n",
      "[LightGBM] [Info] [binary:BoostFromScore]: pavg=0.036447 -> initscore=-3.274764\n",
      "[LightGBM] [Info] Start training from score -3.274764\n",
      "Training until validation scores don't improve for 300 rounds\n",
      "[100]\tvalid_0's binary_logloss: 0.154347\tvalid_0's gini: 0.258575\n",
      "[200]\tvalid_0's binary_logloss: 0.153338\tvalid_0's gini: 0.263768\n",
      "[300]\tvalid_0's binary_logloss: 0.152804\tvalid_0's gini: 0.267635\n",
      "[400]\tvalid_0's binary_logloss: 0.152483\tvalid_0's gini: 0.271009\n",
      "[500]\tvalid_0's binary_logloss: 0.152299\tvalid_0's gini: 0.27324\n",
      "[600]\tvalid_0's binary_logloss: 0.152157\tvalid_0's gini: 0.275756\n",
      "[700]\tvalid_0's binary_logloss: 0.15206\tvalid_0's gini: 0.277655\n",
      "[800]\tvalid_0's binary_logloss: 0.151986\tvalid_0's gini: 0.279371\n",
      "[900]\tvalid_0's binary_logloss: 0.151942\tvalid_0's gini: 0.280359\n",
      "[1000]\tvalid_0's binary_logloss: 0.151898\tvalid_0's gini: 0.281475\n",
      "[1100]\tvalid_0's binary_logloss: 0.15186\tvalid_0's gini: 0.282482\n",
      "[1200]\tvalid_0's binary_logloss: 0.151835\tvalid_0's gini: 0.283198\n",
      "[1300]\tvalid_0's binary_logloss: 0.15181\tvalid_0's gini: 0.283848\n",
      "[1400]\tvalid_0's binary_logloss: 0.151796\tvalid_0's gini: 0.284221\n",
      "[1500]\tvalid_0's binary_logloss: 0.151781\tvalid_0's gini: 0.284645\n",
      "[1600]\tvalid_0's binary_logloss: 0.15177\tvalid_0's gini: 0.284943\n",
      "[1700]\tvalid_0's binary_logloss: 0.151761\tvalid_0's gini: 0.285129\n",
      "[1800]\tvalid_0's binary_logloss: 0.151755\tvalid_0's gini: 0.28522\n",
      "[1900]\tvalid_0's binary_logloss: 0.151752\tvalid_0's gini: 0.285325\n",
      "[2000]\tvalid_0's binary_logloss: 0.151749\tvalid_0's gini: 0.285504\n",
      "[2100]\tvalid_0's binary_logloss: 0.151748\tvalid_0's gini: 0.285633\n",
      "[2200]\tvalid_0's binary_logloss: 0.151744\tvalid_0's gini: 0.285711\n",
      "[2300]\tvalid_0's binary_logloss: 0.15174\tvalid_0's gini: 0.285853\n",
      "[2400]\tvalid_0's binary_logloss: 0.15174\tvalid_0's gini: 0.28594\n",
      "[2500]\tvalid_0's binary_logloss: 0.151745\tvalid_0's gini: 0.285916\n",
      "Did not meet early stopping. Best iteration is:\n",
      "[2334]\tvalid_0's binary_logloss: 0.151736\tvalid_0's gini: 0.285929\n",
      "폴드 2 지니계수 : 0.2859292916021393\n",
      "\n",
      "######################################## 폴드 3 / 폴드 5 ########################################\n",
      "[LightGBM] [Info] Number of positive: 17356, number of negative: 458814\n",
      "[LightGBM] [Info] Total Bins 1558\n",
      "[LightGBM] [Info] Number of data points in the train set: 476170, number of used features: 217\n",
      "[LightGBM] [Info] [binary:BoostFromScore]: pavg=0.036449 -> initscore=-3.274707\n",
      "[LightGBM] [Info] Start training from score -3.274707\n",
      "Training until validation scores don't improve for 300 rounds\n",
      "[100]\tvalid_0's binary_logloss: 0.15424\tvalid_0's gini: 0.263985\n",
      "[200]\tvalid_0's binary_logloss: 0.153171\tvalid_0's gini: 0.268713\n",
      "[300]\tvalid_0's binary_logloss: 0.152574\tvalid_0's gini: 0.272773\n",
      "[400]\tvalid_0's binary_logloss: 0.152223\tvalid_0's gini: 0.275785\n",
      "[500]\tvalid_0's binary_logloss: 0.152001\tvalid_0's gini: 0.278098\n",
      "[600]\tvalid_0's binary_logloss: 0.151847\tvalid_0's gini: 0.280206\n",
      "[700]\tvalid_0's binary_logloss: 0.151748\tvalid_0's gini: 0.281603\n",
      "[800]\tvalid_0's binary_logloss: 0.151682\tvalid_0's gini: 0.282672\n",
      "[900]\tvalid_0's binary_logloss: 0.151637\tvalid_0's gini: 0.283423\n",
      "[1000]\tvalid_0's binary_logloss: 0.151608\tvalid_0's gini: 0.283963\n",
      "[1100]\tvalid_0's binary_logloss: 0.151589\tvalid_0's gini: 0.284105\n",
      "[1200]\tvalid_0's binary_logloss: 0.151574\tvalid_0's gini: 0.284387\n",
      "[1300]\tvalid_0's binary_logloss: 0.151575\tvalid_0's gini: 0.284318\n",
      "[1400]\tvalid_0's binary_logloss: 0.151572\tvalid_0's gini: 0.284372\n",
      "[1500]\tvalid_0's binary_logloss: 0.151569\tvalid_0's gini: 0.284466\n",
      "[1600]\tvalid_0's binary_logloss: 0.151574\tvalid_0's gini: 0.284435\n",
      "[1700]\tvalid_0's binary_logloss: 0.151579\tvalid_0's gini: 0.284362\n",
      "Early stopping, best iteration is:\n",
      "[1478]\tvalid_0's binary_logloss: 0.151568\tvalid_0's gini: 0.284492\n",
      "폴드 3 지니계수 : 0.2844916047790675\n",
      "\n",
      "######################################## 폴드 4 / 폴드 5 ########################################\n",
      "[LightGBM] [Info] Number of positive: 17355, number of negative: 458815\n",
      "[LightGBM] [Info] Total Bins 1555\n",
      "[LightGBM] [Info] Number of data points in the train set: 476170, number of used features: 216\n",
      "[LightGBM] [Info] [binary:BoostFromScore]: pavg=0.036447 -> initscore=-3.274766\n",
      "[LightGBM] [Info] Start training from score -3.274766\n",
      "Training until validation scores don't improve for 300 rounds\n",
      "[100]\tvalid_0's binary_logloss: 0.154327\tvalid_0's gini: 0.256916\n",
      "[200]\tvalid_0's binary_logloss: 0.15331\tvalid_0's gini: 0.261871\n",
      "[300]\tvalid_0's binary_logloss: 0.152761\tvalid_0's gini: 0.265441\n",
      "[400]\tvalid_0's binary_logloss: 0.152441\tvalid_0's gini: 0.268613\n",
      "[500]\tvalid_0's binary_logloss: 0.152245\tvalid_0's gini: 0.271168\n",
      "[600]\tvalid_0's binary_logloss: 0.152098\tvalid_0's gini: 0.273746\n",
      "[700]\tvalid_0's binary_logloss: 0.152012\tvalid_0's gini: 0.275192\n",
      "[800]\tvalid_0's binary_logloss: 0.151952\tvalid_0's gini: 0.276278\n",
      "[900]\tvalid_0's binary_logloss: 0.151911\tvalid_0's gini: 0.277039\n",
      "[1000]\tvalid_0's binary_logloss: 0.151871\tvalid_0's gini: 0.277996\n",
      "[1100]\tvalid_0's binary_logloss: 0.151844\tvalid_0's gini: 0.278535\n",
      "[1200]\tvalid_0's binary_logloss: 0.151827\tvalid_0's gini: 0.279055\n",
      "[1300]\tvalid_0's binary_logloss: 0.151817\tvalid_0's gini: 0.27936\n",
      "[1400]\tvalid_0's binary_logloss: 0.151799\tvalid_0's gini: 0.279872\n",
      "[1500]\tvalid_0's binary_logloss: 0.151797\tvalid_0's gini: 0.280053\n",
      "[1600]\tvalid_0's binary_logloss: 0.151792\tvalid_0's gini: 0.280148\n",
      "[1700]\tvalid_0's binary_logloss: 0.151794\tvalid_0's gini: 0.280162\n",
      "[1800]\tvalid_0's binary_logloss: 0.151793\tvalid_0's gini: 0.280319\n",
      "[1900]\tvalid_0's binary_logloss: 0.151795\tvalid_0's gini: 0.280422\n",
      "[2000]\tvalid_0's binary_logloss: 0.151797\tvalid_0's gini: 0.280419\n",
      "[2100]\tvalid_0's binary_logloss: 0.151799\tvalid_0's gini: 0.280516\n",
      "Early stopping, best iteration is:\n",
      "[1852]\tvalid_0's binary_logloss: 0.15179\tvalid_0's gini: 0.280514\n",
      "폴드 4 지니계수 : 0.2805136229288192\n",
      "\n",
      "######################################## 폴드 5 / 폴드 5 ########################################\n",
      "[LightGBM] [Info] Number of positive: 17355, number of negative: 458815\n",
      "[LightGBM] [Info] Total Bins 1558\n",
      "[LightGBM] [Info] Number of data points in the train set: 476170, number of used features: 217\n",
      "[LightGBM] [Info] [binary:BoostFromScore]: pavg=0.036447 -> initscore=-3.274766\n",
      "[LightGBM] [Info] Start training from score -3.274766\n",
      "Training until validation scores don't improve for 300 rounds\n",
      "[100]\tvalid_0's binary_logloss: 0.15439\tvalid_0's gini: 0.26681\n",
      "[200]\tvalid_0's binary_logloss: 0.15338\tvalid_0's gini: 0.272186\n",
      "[300]\tvalid_0's binary_logloss: 0.152821\tvalid_0's gini: 0.275897\n",
      "[400]\tvalid_0's binary_logloss: 0.1525\tvalid_0's gini: 0.278734\n",
      "[500]\tvalid_0's binary_logloss: 0.152277\tvalid_0's gini: 0.282151\n",
      "[600]\tvalid_0's binary_logloss: 0.15212\tvalid_0's gini: 0.285039\n",
      "[700]\tvalid_0's binary_logloss: 0.152009\tvalid_0's gini: 0.287435\n",
      "[800]\tvalid_0's binary_logloss: 0.15192\tvalid_0's gini: 0.289549\n",
      "[900]\tvalid_0's binary_logloss: 0.151862\tvalid_0's gini: 0.290886\n",
      "[1000]\tvalid_0's binary_logloss: 0.151819\tvalid_0's gini: 0.291935\n",
      "[1100]\tvalid_0's binary_logloss: 0.151782\tvalid_0's gini: 0.292972\n",
      "[1200]\tvalid_0's binary_logloss: 0.151752\tvalid_0's gini: 0.293784\n",
      "[1300]\tvalid_0's binary_logloss: 0.151732\tvalid_0's gini: 0.294315\n",
      "[1400]\tvalid_0's binary_logloss: 0.151724\tvalid_0's gini: 0.294475\n",
      "[1500]\tvalid_0's binary_logloss: 0.151713\tvalid_0's gini: 0.294786\n",
      "[1600]\tvalid_0's binary_logloss: 0.1517\tvalid_0's gini: 0.295146\n",
      "[1700]\tvalid_0's binary_logloss: 0.151694\tvalid_0's gini: 0.295268\n",
      "[1800]\tvalid_0's binary_logloss: 0.151695\tvalid_0's gini: 0.295212\n",
      "[1900]\tvalid_0's binary_logloss: 0.151689\tvalid_0's gini: 0.295454\n",
      "[2000]\tvalid_0's binary_logloss: 0.151693\tvalid_0's gini: 0.2954\n",
      "[2100]\tvalid_0's binary_logloss: 0.151694\tvalid_0's gini: 0.295427\n",
      "[2200]\tvalid_0's binary_logloss: 0.151692\tvalid_0's gini: 0.295538\n",
      "[2300]\tvalid_0's binary_logloss: 0.151699\tvalid_0's gini: 0.295411\n",
      "Early stopping, best iteration is:\n",
      "[2045]\tvalid_0's binary_logloss: 0.151689\tvalid_0's gini: 0.295553\n",
      "폴드 5 지니계수 : 0.29555250456072807\n",
      "\n"
     ]
    }
   ],
   "source": [
    "from sklearn.model_selection import StratifiedKFold\n",
    "\n",
    "# 층화 K 폴드 교차 검증기 생성\n",
    "folds = StratifiedKFold(n_splits=5, shuffle=True, random_state=1991)\n",
    "\n",
    "# OOF 방식으로 훈련된 모델로 검증 데이터 타깃값을 예측한 확률을 담을 1차원 배열\n",
    "oof_val_preds = np.zeros(X.shape[0]) \n",
    "# OOF 방식으로 훈련된 모델로 테스트 데이터 타깃값을 예측한 확률을 담을 1차원 배열\n",
    "oof_test_preds = np.zeros(X_test.shape[0]) \n",
    "\n",
    "# OOF 방식으로 모델 훈련, 검증, 예측\n",
    "for idx, (train_idx, valid_idx) in enumerate(folds.split(X, y)):\n",
    "    # 각 폴드를 구분하는 문구 출력\n",
    "    print('#'*40, f'폴드 {idx+1} / 폴드 {folds.n_splits}', '#'*40)\n",
    "    \n",
    "    # 훈련용 데이터, 검증용 데이터 설정\n",
    "    X_train, y_train = X[train_idx], y[train_idx] # 훈련용 데이터\n",
    "    X_valid, y_valid = X[valid_idx], y[valid_idx] # 검증용 데이터\n",
    "\n",
    "    # LightGBM 전용 데이터셋 생성\n",
    "    dtrain = lgb.Dataset(X_train, y_train) # LightGBM 전용 훈련 데이터셋\n",
    "    dvalid = lgb.Dataset(X_valid, y_valid) # LightGBM 전용 검증 데이터셋\n",
    "                          \n",
    "    # LightGBM 모델 훈련\n",
    "    lgb_model = lgb.train(params=max_params,    # 최적 하이퍼파라미터\n",
    "                          train_set=dtrain,     # 훈련 데이터셋\n",
    "                          num_boost_round=2500, # 부스팅 반복 횟수\n",
    "                          valid_sets=dvalid,    # 성능 평가용 검증 데이터셋\n",
    "                          feval=gini,           # 검증용 평가지표\n",
    "                          early_stopping_rounds=300, # 조기종료 조건\n",
    "                          verbose_eval=100)     # 100번째마다 점수 출력\n",
    "    \n",
    "    # 테스트 데이터를 활용해 OOF 예측\n",
    "    oof_test_preds += lgb_model.predict(X_test)/folds.n_splits\n",
    "    # 모델 성능 평가를 위한 검증 데이터 타깃값 예측 \n",
    "    oof_val_preds[valid_idx] += lgb_model.predict(X_valid)\n",
    "    \n",
    "    # 검증 데이터 예측확률에 대한 정규화 지니계수\n",
    "    gini_score = eval_gini(y_valid, oof_val_preds[valid_idx])\n",
    "    print(f'폴드 {idx+1} 지니계수 : {gini_score}\\n')"
   ]
  },
  {
   "cell_type": "code",
   "execution_count": 24,
   "id": "a3031b1a",
   "metadata": {
    "execution": {
     "iopub.execute_input": "2022-03-05T04:41:33.228636Z",
     "iopub.status.busy": "2022-03-05T04:41:33.227611Z",
     "iopub.status.idle": "2022-03-05T04:41:33.341921Z",
     "shell.execute_reply": "2022-03-05T04:41:33.342940Z"
    },
    "papermill": {
     "duration": 0.195065,
     "end_time": "2022-03-05T04:41:33.343263",
     "exception": false,
     "start_time": "2022-03-05T04:41:33.148198",
     "status": "completed"
    },
    "tags": []
   },
   "outputs": [
    {
     "name": "stdout",
     "output_type": "stream",
     "text": [
      "OOF 검증 데이터 지니계수 : 0.2889651000887542\n"
     ]
    }
   ],
   "source": [
    "print('OOF 검증 데이터 지니계수 :', eval_gini(y, oof_val_preds))"
   ]
  },
  {
   "cell_type": "markdown",
   "id": "98fc0634",
   "metadata": {
    "papermill": {
     "duration": 0.075742,
     "end_time": "2022-03-05T04:41:33.497862",
     "exception": false,
     "start_time": "2022-03-05T04:41:33.422120",
     "status": "completed"
    },
    "tags": []
   },
   "source": [
    "## 8.4.4 예측 및 결과 제출"
   ]
  },
  {
   "cell_type": "code",
   "execution_count": 25,
   "id": "b4c8441f",
   "metadata": {
    "execution": {
     "iopub.execute_input": "2022-03-05T04:41:33.659446Z",
     "iopub.status.busy": "2022-03-05T04:41:33.658067Z",
     "iopub.status.idle": "2022-03-05T04:41:37.331655Z",
     "shell.execute_reply": "2022-03-05T04:41:37.331088Z"
    },
    "papermill": {
     "duration": 3.75757,
     "end_time": "2022-03-05T04:41:37.331793",
     "exception": false,
     "start_time": "2022-03-05T04:41:33.574223",
     "status": "completed"
    },
    "tags": []
   },
   "outputs": [],
   "source": [
    "submission['target'] = oof_test_preds\n",
    "submission.to_csv('submission.csv')"
   ]
  },
  {
   "cell_type": "markdown",
   "id": "c37b3fb8",
   "metadata": {},
   "source": [
    "## 과제 : 데이터 처리 의사결정을 교재와 다르게 시도 후 결과 보고"
   ]
  },
  {
   "cell_type": "markdown",
   "id": "d5cc1a95",
   "metadata": {},
   "source": []
  }
 ],
 "metadata": {
  "kernelspec": {
   "display_name": "Python 3",
   "language": "python",
   "name": "python3"
  },
  "language_info": {
   "codemirror_mode": {
    "name": "ipython",
    "version": 3
   },
   "file_extension": ".py",
   "mimetype": "text/x-python",
   "name": "python",
   "nbconvert_exporter": "python",
   "pygments_lexer": "ipython3",
   "version": "3.7.10"
  },
  "papermill": {
   "default_parameters": {},
   "duration": 3207.71323,
   "end_time": "2022-03-05T04:41:39.410172",
   "environment_variables": {},
   "exception": null,
   "input_path": "__notebook__.ipynb",
   "output_path": "__notebook__.ipynb",
   "parameters": {},
   "start_time": "2022-03-05T03:48:11.696942",
   "version": "2.3.3"
  }
 },
 "nbformat": 4,
 "nbformat_minor": 5
}
