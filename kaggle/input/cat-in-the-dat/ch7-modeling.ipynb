{
 "cells": [
  {
   "cell_type": "markdown",
   "metadata": {
    "papermill": {
     "duration": 0.017846,
     "end_time": "2021-07-31T03:18:10.215166",
     "exception": false,
     "start_time": "2021-07-31T03:18:10.19732",
     "status": "completed"
    },
    "tags": []
   },
   "source": [
    "# 7.4 범주형 데이터 이진분류 경진대회 성능 개선 I"
   ]
  },
  {
   "cell_type": "markdown",
   "metadata": {
    "papermill": {
     "duration": 0.016783,
     "end_time": "2021-07-31T03:18:10.252211",
     "exception": false,
     "start_time": "2021-07-31T03:18:10.235428",
     "status": "completed"
    },
    "tags": []
   },
   "source": [
    "- [범주형 데이터 이진분류 경진대회 링크](https://www.kaggle.com/c/cat-in-the-dat/)\n",
    "- [모델링 코드 참고 링크](https://www.kaggle.com/dkomyagin/cat-in-the-dat-0-80285-private-lb-solution)"
   ]
  },
  {
   "cell_type": "code",
   "execution_count": 101,
   "metadata": {
    "execution": {
     "iopub.execute_input": "2025-09-19T12:40:13.616459Z",
     "iopub.status.busy": "2025-09-19T12:40:13.616078Z",
     "iopub.status.idle": "2025-09-19T12:40:15.513031Z",
     "shell.execute_reply": "2025-09-19T12:40:15.512091Z",
     "shell.execute_reply.started": "2025-09-19T12:40:13.616420Z"
    },
    "papermill": {
     "duration": 2.652873,
     "end_time": "2021-07-31T03:18:12.963899",
     "exception": false,
     "start_time": "2021-07-31T03:18:10.311026",
     "status": "completed"
    },
    "tags": [],
    "trusted": true
   },
   "outputs": [],
   "source": [
    "import pandas as pd\n",
    "# 데이터 경로\n",
    "data_path = '/kaggle/input/cat-in-the-dat/'\n",
    "\n",
    "train = pd.read_csv(data_path + 'train.csv', index_col='id')\n",
    "test = pd.read_csv(data_path + 'test.csv', index_col='id')\n",
    "submission = pd.read_csv(data_path + 'sample_submission.csv', index_col='id')"
   ]
  },
  {
   "cell_type": "markdown",
   "metadata": {
    "papermill": {
     "duration": 0.016815,
     "end_time": "2021-07-31T03:18:12.998023",
     "exception": false,
     "start_time": "2021-07-31T03:18:12.981208",
     "status": "completed"
    },
    "tags": []
   },
   "source": [
    "## 7.4.1 피처 엔지니어링 I : 피처 맞춤 인코딩"
   ]
  },
  {
   "cell_type": "markdown",
   "metadata": {
    "papermill": {
     "duration": 0.016929,
     "end_time": "2021-07-31T03:18:13.032473",
     "exception": false,
     "start_time": "2021-07-31T03:18:13.015544",
     "status": "completed"
    },
    "tags": []
   },
   "source": [
    "### 데이터 합치기"
   ]
  },
  {
   "cell_type": "code",
   "execution_count": 102,
   "metadata": {
    "execution": {
     "iopub.execute_input": "2025-09-19T12:40:15.515221Z",
     "iopub.status.busy": "2025-09-19T12:40:15.514945Z",
     "iopub.status.idle": "2025-09-19T12:40:16.148523Z",
     "shell.execute_reply": "2025-09-19T12:40:16.147608Z",
     "shell.execute_reply.started": "2025-09-19T12:40:15.515190Z"
    },
    "papermill": {
     "duration": 0.597217,
     "end_time": "2021-07-31T03:18:13.646631",
     "exception": false,
     "start_time": "2021-07-31T03:18:13.049414",
     "status": "completed"
    },
    "tags": [],
    "trusted": true
   },
   "outputs": [],
   "source": [
    "# 훈련 데이터와 테스트 데이터 합치기\n",
    "all_data = pd.concat([train, test])\n",
    "all_data = all_data.drop('target', axis=1) # 타깃값 제거"
   ]
  },
  {
   "cell_type": "markdown",
   "metadata": {
    "papermill": {
     "duration": 0.016559,
     "end_time": "2021-07-31T03:18:13.680191",
     "exception": false,
     "start_time": "2021-07-31T03:18:13.663632",
     "status": "completed"
    },
    "tags": []
   },
   "source": [
    "### 이진 피처 인코딩"
   ]
  },
  {
   "cell_type": "code",
   "execution_count": 103,
   "metadata": {
    "execution": {
     "iopub.execute_input": "2025-09-19T12:40:16.149922Z",
     "iopub.status.busy": "2025-09-19T12:40:16.149662Z",
     "iopub.status.idle": "2025-09-19T12:40:16.511320Z",
     "shell.execute_reply": "2025-09-19T12:40:16.510199Z",
     "shell.execute_reply.started": "2025-09-19T12:40:16.149887Z"
    },
    "papermill": {
     "duration": 0.286709,
     "end_time": "2021-07-31T03:18:13.983786",
     "exception": false,
     "start_time": "2021-07-31T03:18:13.697077",
     "status": "completed"
    },
    "tags": [],
    "trusted": true
   },
   "outputs": [],
   "source": [
    "all_data['bin_3'] = all_data['bin_3'].map({'F':0, 'T':1})\n",
    "all_data['bin_4'] = all_data['bin_4'].map({'N':0, 'Y':1})"
   ]
  },
  {
   "cell_type": "markdown",
   "metadata": {
    "papermill": {
     "duration": 0.017408,
     "end_time": "2021-07-31T03:18:14.018535",
     "exception": false,
     "start_time": "2021-07-31T03:18:14.001127",
     "status": "completed"
    },
    "tags": []
   },
   "source": [
    "### 순서형 피처 인코딩"
   ]
  },
  {
   "cell_type": "code",
   "execution_count": 104,
   "metadata": {
    "execution": {
     "iopub.execute_input": "2025-09-19T12:40:16.513765Z",
     "iopub.status.busy": "2025-09-19T12:40:16.513487Z",
     "iopub.status.idle": "2025-09-19T12:40:16.869659Z",
     "shell.execute_reply": "2025-09-19T12:40:16.868561Z",
     "shell.execute_reply.started": "2025-09-19T12:40:16.513734Z"
    },
    "papermill": {
     "duration": 0.297286,
     "end_time": "2021-07-31T03:18:14.333332",
     "exception": false,
     "start_time": "2021-07-31T03:18:14.036046",
     "status": "completed"
    },
    "tags": [],
    "trusted": true
   },
   "outputs": [],
   "source": [
    "ord1dict = {'Novice':0, 'Contributor':1, \n",
    "            'Expert':2, 'Master':3, 'Grandmaster':4}\n",
    "ord2dict = {'Freezing':0, 'Cold':1, 'Warm':2, \n",
    "            'Hot':3, 'Boiling Hot':4, 'Lava Hot':5}\n",
    "\n",
    "all_data['ord_1'] = all_data['ord_1'].map(ord1dict)\n",
    "all_data['ord_2'] = all_data['ord_2'].map(ord2dict)"
   ]
  },
  {
   "cell_type": "code",
   "execution_count": 105,
   "metadata": {
    "execution": {
     "iopub.execute_input": "2025-09-19T12:40:16.871152Z",
     "iopub.status.busy": "2025-09-19T12:40:16.870861Z",
     "iopub.status.idle": "2025-09-19T12:40:17.544329Z",
     "shell.execute_reply": "2025-09-19T12:40:17.543355Z",
     "shell.execute_reply.started": "2025-09-19T12:40:16.871122Z"
    },
    "papermill": {
     "duration": 1.716582,
     "end_time": "2021-07-31T03:18:16.066902",
     "exception": false,
     "start_time": "2021-07-31T03:18:14.35032",
     "status": "completed"
    },
    "tags": [],
    "trusted": true
   },
   "outputs": [
    {
     "name": "stdout",
     "output_type": "stream",
     "text": [
      "ord_3\n",
      "['a' 'b' 'c' 'd' 'e' 'f' 'g' 'h' 'i' 'j' 'k' 'l' 'm' 'n' 'o']\n",
      "ord_4\n",
      "['A' 'B' 'C' 'D' 'E' 'F' 'G' 'H' 'I' 'J' 'K' 'L' 'M' 'N' 'O' 'P' 'Q' 'R'\n",
      " 'S' 'T' 'U' 'V' 'W' 'X' 'Y' 'Z']\n",
      "ord_5\n",
      "['AP' 'Ai' 'Aj' 'BA' 'BE' 'Bb' 'Bd' 'Bn' 'CL' 'CM' 'CU' 'CZ' 'Cl' 'DH'\n",
      " 'DN' 'Dc' 'Dx' 'Ed' 'Eg' 'Er' 'FI' 'Fd' 'Fo' 'GD' 'GJ' 'Gb' 'Gx' 'Hj'\n",
      " 'IK' 'Id' 'JX' 'Jc' 'Jf' 'Jt' 'KR' 'KZ' 'Kf' 'Kq' 'LE' 'MC' 'MO' 'MV'\n",
      " 'Mf' 'Ml' 'Mx' 'NV' 'Nf' 'Nk' 'OR' 'Ob' 'Os' 'PA' 'PQ' 'PZ' 'Ps' 'QM'\n",
      " 'Qb' 'Qh' 'Qo' 'RG' 'RL' 'RP' 'Rm' 'Ry' 'SB' 'Sc' 'TR' 'TZ' 'To' 'UO'\n",
      " 'Uk' 'Uu' 'Vf' 'Vx' 'WE' 'Wc' 'Wv' 'XI' 'Xh' 'Xi' 'YC' 'Yb' 'Ye' 'ZR'\n",
      " 'ZS' 'Zc' 'Zq' 'aF' 'aM' 'aO' 'aP' 'ac' 'av' 'bF' 'bJ' 'be' 'cA' 'cG'\n",
      " 'cW' 'ck' 'cp' 'dB' 'dE' 'dN' 'dO' 'dP' 'dQ' 'dZ' 'dh' 'eG' 'eQ' 'eb'\n",
      " 'eg' 'ek' 'ex' 'fO' 'fh' 'gJ' 'gM' 'hL' 'hT' 'hh' 'hp' 'iT' 'ih' 'jS'\n",
      " 'jV' 'je' 'jp' 'kC' 'kE' 'kK' 'kL' 'kU' 'kW' 'ke' 'kr' 'kw' 'lF' 'lL'\n",
      " 'll' 'lx' 'mb' 'mc' 'mm' 'nX' 'nh' 'oC' 'oG' 'oH' 'oK' 'od' 'on' 'pa'\n",
      " 'ps' 'qA' 'qJ' 'qK' 'qP' 'qX' 'qo' 'qv' 'qw' 'rZ' 'ri' 'rp' 'sD' 'sV'\n",
      " 'sY' 'sn' 'su' 'tM' 'tP' 'tv' 'uJ' 'uS' 'ud' 'us' 'ut' 'ux' 'uy' 'vK'\n",
      " 'vq' 'vy' 'wu' 'wy' 'xP' 'xy' 'yN' 'yY' 'yc' 'zU']\n"
     ]
    }
   ],
   "source": [
    "from sklearn.preprocessing import OrdinalEncoder\n",
    "\n",
    "ord_345 = ['ord_3', 'ord_4', 'ord_5']\n",
    "\n",
    "ord_encoder = OrdinalEncoder() # OrdinalEncoder 객체 생성\n",
    "# ordinal 인코딩 적용\n",
    "all_data[ord_345] = ord_encoder.fit_transform(all_data[ord_345])\n",
    "\n",
    "# 피처별 인코딩 순서 출력\n",
    "for feature, categories in zip(ord_345, ord_encoder.categories_):\n",
    "    print(feature)\n",
    "    print(categories)"
   ]
  },
  {
   "cell_type": "markdown",
   "metadata": {
    "papermill": {
     "duration": 0.017291,
     "end_time": "2021-07-31T03:18:16.103857",
     "exception": false,
     "start_time": "2021-07-31T03:18:16.086566",
     "status": "completed"
    },
    "tags": []
   },
   "source": [
    "### 명목형 피처 인코딩"
   ]
  },
  {
   "cell_type": "code",
   "execution_count": 106,
   "metadata": {
    "execution": {
     "iopub.execute_input": "2025-09-19T12:40:17.545785Z",
     "iopub.status.busy": "2025-09-19T12:40:17.545528Z",
     "iopub.status.idle": "2025-09-19T12:40:17.551188Z",
     "shell.execute_reply": "2025-09-19T12:40:17.550145Z",
     "shell.execute_reply.started": "2025-09-19T12:40:17.545758Z"
    },
    "papermill": {
     "duration": 0.026272,
     "end_time": "2021-07-31T03:18:16.147364",
     "exception": false,
     "start_time": "2021-07-31T03:18:16.121092",
     "status": "completed"
    },
    "tags": [],
    "trusted": true
   },
   "outputs": [],
   "source": [
    "nom_features = ['nom_' + str(i) for i in range(10)] # 명목형 피처"
   ]
  },
  {
   "cell_type": "code",
   "execution_count": 107,
   "metadata": {
    "execution": {
     "iopub.execute_input": "2025-09-19T12:40:17.552772Z",
     "iopub.status.busy": "2025-09-19T12:40:17.552509Z",
     "iopub.status.idle": "2025-09-19T12:40:19.322795Z",
     "shell.execute_reply": "2025-09-19T12:40:19.321665Z",
     "shell.execute_reply.started": "2025-09-19T12:40:17.552742Z"
    },
    "papermill": {
     "duration": 1.472785,
     "end_time": "2021-07-31T03:18:17.637691",
     "exception": false,
     "start_time": "2021-07-31T03:18:16.164906",
     "status": "completed"
    },
    "tags": [],
    "trusted": true
   },
   "outputs": [
    {
     "data": {
      "text/plain": [
       "<500000x16276 sparse matrix of type '<class 'numpy.float64'>'\n",
       "\twith 5000000 stored elements in Compressed Sparse Row format>"
      ]
     },
     "execution_count": 107,
     "metadata": {},
     "output_type": "execute_result"
    }
   ],
   "source": [
    "from sklearn.preprocessing import OneHotEncoder\n",
    "\n",
    "onehot_encoder = OneHotEncoder() # OneHotEncoder 객체 생성\n",
    "# 원-핫 인코딩 적용\n",
    "encoded_nom_matrix = onehot_encoder.fit_transform(all_data[nom_features])\n",
    "\n",
    "encoded_nom_matrix"
   ]
  },
  {
   "cell_type": "code",
   "execution_count": 108,
   "metadata": {
    "execution": {
     "iopub.execute_input": "2025-09-19T12:40:19.324630Z",
     "iopub.status.busy": "2025-09-19T12:40:19.324346Z",
     "iopub.status.idle": "2025-09-19T12:40:19.352191Z",
     "shell.execute_reply": "2025-09-19T12:40:19.351075Z",
     "shell.execute_reply.started": "2025-09-19T12:40:19.324598Z"
    },
    "papermill": {
     "duration": 0.051933,
     "end_time": "2021-07-31T03:18:17.70708",
     "exception": false,
     "start_time": "2021-07-31T03:18:17.655147",
     "status": "completed"
    },
    "tags": [],
    "trusted": true
   },
   "outputs": [],
   "source": [
    "all_data = all_data.drop(nom_features, axis=1) # 기존 명목형 피처 삭제"
   ]
  },
  {
   "cell_type": "markdown",
   "metadata": {
    "papermill": {
     "duration": 0.017961,
     "end_time": "2021-07-31T03:18:17.742856",
     "exception": false,
     "start_time": "2021-07-31T03:18:17.724895",
     "status": "completed"
    },
    "tags": []
   },
   "source": [
    "### 날짜 피처 인코딩"
   ]
  },
  {
   "cell_type": "code",
   "execution_count": 109,
   "metadata": {
    "execution": {
     "iopub.execute_input": "2025-09-19T12:40:19.354063Z",
     "iopub.status.busy": "2025-09-19T12:40:19.353691Z",
     "iopub.status.idle": "2025-09-19T12:40:19.394397Z",
     "shell.execute_reply": "2025-09-19T12:40:19.393449Z",
     "shell.execute_reply.started": "2025-09-19T12:40:19.354019Z"
    },
    "trusted": true
   },
   "outputs": [],
   "source": [
    "date_features  = ['day', 'month'] # 날짜 피처\n",
    "all_data_onehot = all_data.copy()\n",
    "all_data_sprs = all_data.copy()"
   ]
  },
  {
   "cell_type": "code",
   "execution_count": 110,
   "metadata": {
    "execution": {
     "iopub.execute_input": "2025-09-19T12:40:19.397315Z",
     "iopub.status.busy": "2025-09-19T12:40:19.397019Z",
     "iopub.status.idle": "2025-09-19T12:40:19.401391Z",
     "shell.execute_reply": "2025-09-19T12:40:19.400453Z",
     "shell.execute_reply.started": "2025-09-19T12:40:19.397284Z"
    },
    "papermill": {
     "duration": 0.169969,
     "end_time": "2021-07-31T03:18:17.930497",
     "exception": false,
     "start_time": "2021-07-31T03:18:17.760528",
     "status": "completed"
    },
    "tags": [],
    "trusted": true
   },
   "outputs": [],
   "source": [
    "# # 원-핫 인코딩 적용\n",
    "# encoded_date_matrix = onehot_encoder.fit_transform(all_data[date_features])\n",
    "# all_data_onehot = all_data.drop(date_features, axis=1) # 기존 날짜 피처 삭제\n",
    "\n",
    "# encoded_date_matrix"
   ]
  },
  {
   "cell_type": "code",
   "execution_count": 111,
   "metadata": {
    "execution": {
     "iopub.execute_input": "2025-09-19T12:40:19.403162Z",
     "iopub.status.busy": "2025-09-19T12:40:19.402785Z",
     "iopub.status.idle": "2025-09-19T12:40:19.539287Z",
     "shell.execute_reply": "2025-09-19T12:40:19.538010Z",
     "shell.execute_reply.started": "2025-09-19T12:40:19.403119Z"
    },
    "trusted": true
   },
   "outputs": [
    {
     "data": {
      "text/plain": [
       "array([[1., 1.],\n",
       "       [6., 7.],\n",
       "       [6., 1.],\n",
       "       ...,\n",
       "       [2., 0.],\n",
       "       [1., 0.],\n",
       "       [1., 1.]])"
      ]
     },
     "execution_count": 111,
     "metadata": {},
     "output_type": "execute_result"
    }
   ],
   "source": [
    "# 순서 인코딩 적용\n",
    "from sklearn.preprocessing import OrdinalEncoder\n",
    "\n",
    "date_features  = ['day', 'month'] # 날짜 피처\n",
    "ordinal_encoder = OrdinalEncoder() # OrdinalEncoder 객체 생성\n",
    "encoded_date_matrix = ordinal_encoder.fit_transform(all_data[date_features])\n",
    "all_data_ord = all_data.drop(date_features, axis=1) # 기존 날짜 피처 삭제\n",
    "\n",
    "encoded_date_matrix"
   ]
  },
  {
   "cell_type": "markdown",
   "metadata": {
    "papermill": {
     "duration": 0.017743,
     "end_time": "2021-07-31T03:18:17.966302",
     "exception": false,
     "start_time": "2021-07-31T03:18:17.948559",
     "status": "completed"
    },
    "tags": []
   },
   "source": [
    "## 7.4.2 피처 엔지니어링 II : 피처 스케일링"
   ]
  },
  {
   "cell_type": "markdown",
   "metadata": {
    "papermill": {
     "duration": 0.018841,
     "end_time": "2021-07-31T03:18:18.003063",
     "exception": false,
     "start_time": "2021-07-31T03:18:17.984222",
     "status": "completed"
    },
    "tags": []
   },
   "source": [
    "### 순서형 피처 스케일링"
   ]
  },
  {
   "cell_type": "code",
   "execution_count": 112,
   "metadata": {
    "execution": {
     "iopub.execute_input": "2025-09-19T12:40:19.541251Z",
     "iopub.status.busy": "2025-09-19T12:40:19.540872Z",
     "iopub.status.idle": "2025-09-19T12:40:19.645345Z",
     "shell.execute_reply": "2025-09-19T12:40:19.644180Z",
     "shell.execute_reply.started": "2025-09-19T12:40:19.541199Z"
    },
    "papermill": {
     "duration": 0.520488,
     "end_time": "2021-07-31T03:18:18.541538",
     "exception": false,
     "start_time": "2021-07-31T03:18:18.02105",
     "status": "completed"
    },
    "tags": [],
    "trusted": true
   },
   "outputs": [],
   "source": [
    "from sklearn.preprocessing import MinMaxScaler\n",
    "\n",
    "ord_features = ['ord_' + str(i) for i in range(6)] # 순서형 피처\n",
    "# min-max 정규화\n",
    "all_data[ord_features] = MinMaxScaler().fit_transform(all_data[ord_features])"
   ]
  },
  {
   "cell_type": "markdown",
   "metadata": {
    "papermill": {
     "duration": 0.017935,
     "end_time": "2021-07-31T03:18:18.577347",
     "exception": false,
     "start_time": "2021-07-31T03:18:18.559412",
     "status": "completed"
    },
    "tags": []
   },
   "source": [
    "### 인코딩 및 스케일링된 피처 합치기"
   ]
  },
  {
   "cell_type": "code",
   "execution_count": 113,
   "metadata": {
    "execution": {
     "iopub.execute_input": "2025-09-19T12:40:19.646907Z",
     "iopub.status.busy": "2025-09-19T12:40:19.646603Z",
     "iopub.status.idle": "2025-09-19T12:40:20.277903Z",
     "shell.execute_reply": "2025-09-19T12:40:20.276917Z",
     "shell.execute_reply.started": "2025-09-19T12:40:19.646868Z"
    },
    "papermill": {
     "duration": 0.540477,
     "end_time": "2021-07-31T03:18:19.136325",
     "exception": false,
     "start_time": "2021-07-31T03:18:18.595848",
     "status": "completed"
    },
    "tags": [],
    "trusted": true
   },
   "outputs": [],
   "source": [
    "from scipy import sparse\n",
    "\n",
    "# 인코딩 및 스케일링된 피처 합치기\n",
    "all_data_sprs = sparse.hstack([sparse.csr_matrix(all_data),\n",
    "                               encoded_nom_matrix,\n",
    "                               encoded_date_matrix],\n",
    "                              format='csr')"
   ]
  },
  {
   "cell_type": "code",
   "execution_count": 114,
   "metadata": {
    "execution": {
     "iopub.execute_input": "2025-09-19T12:40:20.279245Z",
     "iopub.status.busy": "2025-09-19T12:40:20.279013Z",
     "iopub.status.idle": "2025-09-19T12:40:20.286232Z",
     "shell.execute_reply": "2025-09-19T12:40:20.285004Z",
     "shell.execute_reply.started": "2025-09-19T12:40:20.279219Z"
    },
    "papermill": {
     "duration": 0.026352,
     "end_time": "2021-07-31T03:18:19.181164",
     "exception": false,
     "start_time": "2021-07-31T03:18:19.154812",
     "status": "completed"
    },
    "tags": [],
    "trusted": true
   },
   "outputs": [
    {
     "data": {
      "text/plain": [
       "<500000x16291 sparse matrix of type '<class 'numpy.float64'>'\n",
       "\twith 9983932 stored elements in Compressed Sparse Row format>"
      ]
     },
     "execution_count": 114,
     "metadata": {},
     "output_type": "execute_result"
    }
   ],
   "source": [
    "all_data_sprs"
   ]
  },
  {
   "cell_type": "markdown",
   "metadata": {
    "papermill": {
     "duration": 0.017455,
     "end_time": "2021-07-31T03:18:19.2165",
     "exception": false,
     "start_time": "2021-07-31T03:18:19.199045",
     "status": "completed"
    },
    "tags": []
   },
   "source": [
    "### 데이터 나누기"
   ]
  },
  {
   "cell_type": "code",
   "execution_count": 115,
   "metadata": {
    "execution": {
     "iopub.execute_input": "2025-09-19T12:40:20.287950Z",
     "iopub.status.busy": "2025-09-19T12:40:20.287663Z",
     "iopub.status.idle": "2025-09-19T12:40:20.429189Z",
     "shell.execute_reply": "2025-09-19T12:40:20.427694Z",
     "shell.execute_reply.started": "2025-09-19T12:40:20.287918Z"
    },
    "papermill": {
     "duration": 0.107806,
     "end_time": "2021-07-31T03:18:19.342218",
     "exception": false,
     "start_time": "2021-07-31T03:18:19.234412",
     "status": "completed"
    },
    "tags": [],
    "trusted": true
   },
   "outputs": [],
   "source": [
    "num_train = len(train) # 훈련 데이터 개수\n",
    "\n",
    "# 훈련 데이터와 테스트 데이터 나누기\n",
    "X_train = all_data_sprs[:num_train] # 0 ~ num_train - 1행\n",
    "X_test = all_data_sprs[num_train:] # num_train ~ 마지막 행\n",
    "\n",
    "y = train['target']"
   ]
  },
  {
   "cell_type": "code",
   "execution_count": 116,
   "metadata": {
    "execution": {
     "iopub.execute_input": "2025-09-19T12:40:20.430673Z",
     "iopub.status.busy": "2025-09-19T12:40:20.430450Z",
     "iopub.status.idle": "2025-09-19T12:40:20.610256Z",
     "shell.execute_reply": "2025-09-19T12:40:20.609375Z",
     "shell.execute_reply.started": "2025-09-19T12:40:20.430648Z"
    },
    "papermill": {
     "duration": 0.257462,
     "end_time": "2021-07-31T03:18:19.617713",
     "exception": false,
     "start_time": "2021-07-31T03:18:19.360251",
     "status": "completed"
    },
    "tags": [],
    "trusted": true
   },
   "outputs": [],
   "source": [
    "from sklearn.model_selection import train_test_split\n",
    "\n",
    "# 훈련 데이터, 검증 데이터 분리\n",
    "X_train, X_valid, y_train, y_valid = train_test_split(X_train, y,\n",
    "                                                      test_size=0.1,\n",
    "                                                      stratify=y,\n",
    "                                                      random_state=10)"
   ]
  },
  {
   "cell_type": "markdown",
   "metadata": {
    "papermill": {
     "duration": 0.01776,
     "end_time": "2021-07-31T03:18:19.65341",
     "exception": false,
     "start_time": "2021-07-31T03:18:19.63565",
     "status": "completed"
    },
    "tags": []
   },
   "source": [
    "## 7.4.3 하이퍼 파라미터 최적화"
   ]
  },
  {
   "cell_type": "code",
   "execution_count": 117,
   "metadata": {
    "execution": {
     "iopub.execute_input": "2025-09-19T12:40:20.611642Z",
     "iopub.status.busy": "2025-09-19T12:40:20.611388Z",
     "iopub.status.idle": "2025-09-19T12:40:24.167886Z",
     "shell.execute_reply": "2025-09-19T12:40:24.166802Z",
     "shell.execute_reply.started": "2025-09-19T12:40:20.611613Z"
    },
    "papermill": {
     "duration": 268.25626,
     "end_time": "2021-07-31T03:22:47.927852",
     "exception": false,
     "start_time": "2021-07-31T03:18:19.671592",
     "status": "completed"
    },
    "tags": [],
    "trusted": true
   },
   "outputs": [
    {
     "data": {
      "text/plain": [
       "LogisticRegression(C=0.1, max_iter=1000, random_state=42, solver='liblinear')"
      ]
     },
     "execution_count": 117,
     "metadata": {},
     "output_type": "execute_result"
    }
   ],
   "source": [
    "# %%time\n",
    "\n",
    "# from sklearn.model_selection import GridSearchCV\n",
    "# from sklearn.linear_model import LogisticRegression\n",
    "\n",
    "# # 로지스틱 회귀 모델 생성\n",
    "# logistic_model = LogisticRegression()\n",
    "\n",
    "# # 하이퍼파라미터 값 목록\n",
    "# lr_params = {'C':[0.1, 0.125, 0.2], 'max_iter':[800, 900, 1000], \n",
    "#              'solver':['liblinear'], 'random_state':[42]}\n",
    "\n",
    "# # 그리드서치 객체 생성\n",
    "# gridsearch_logistic_model = GridSearchCV(estimator=logistic_model,\n",
    "#                                          param_grid=lr_params,\n",
    "#                                          scoring='roc_auc', # 평가지표\n",
    "#                                          cv=5)\n",
    "# # 그리드서치 수행\n",
    "# gridsearch_logistic_model.fit(X_train, y_train)\n",
    "\n",
    "# print('최적 하이퍼파라미터:', gridsearch_logistic_model.best_params_)\n",
    "\n",
    "num_train = len(train) # 훈련 데이터 개수\n",
    "\n",
    "# 훈련 데이터와 테스트 데이터 나누기\n",
    "X_train = all_data_onehot[:num_train] # 0 ~ num_train - 1행\n",
    "X_test = all_data_onehot[num_train:] # num_train ~ 마지막 행\n",
    "\n",
    "y = train['target']\n",
    "\n",
    "from sklearn.model_selection import train_test_split\n",
    "\n",
    "# 훈련 데이터, 검증 데이터 분리\n",
    "X_train, X_valid, y_train, y_valid = train_test_split(X_train, y,\n",
    "                                                      test_size=0.1,\n",
    "                                                      stratify=y,\n",
    "                                                      random_state=10)\n",
    "\n",
    "from sklearn.linear_model import LogisticRegression\n",
    "\n",
    "# 로지스틱 회귀 모델 생성\n",
    "logistic_model = LogisticRegression(\n",
    "    C=0.1,               # 직접 하이퍼파라미터 지정\n",
    "    max_iter=1000, \n",
    "    solver='liblinear', \n",
    "    random_state=42\n",
    ")\n",
    "\n",
    "# 모델 학습\n",
    "logistic_model.fit(X_train, y_train)"
   ]
  },
  {
   "cell_type": "markdown",
   "metadata": {
    "papermill": {
     "duration": 0.017955,
     "end_time": "2021-07-31T03:22:47.964485",
     "exception": false,
     "start_time": "2021-07-31T03:22:47.94653",
     "status": "completed"
    },
    "tags": []
   },
   "source": [
    "## 7.4.4 모델 성능 검증"
   ]
  },
  {
   "cell_type": "code",
   "execution_count": 118,
   "metadata": {
    "execution": {
     "iopub.execute_input": "2025-09-19T12:40:24.169575Z",
     "iopub.status.busy": "2025-09-19T12:40:24.169300Z",
     "iopub.status.idle": "2025-09-19T12:40:24.181007Z",
     "shell.execute_reply": "2025-09-19T12:40:24.179762Z",
     "shell.execute_reply.started": "2025-09-19T12:40:24.169540Z"
    },
    "papermill": {
     "duration": 0.028659,
     "end_time": "2021-07-31T03:22:48.01229",
     "exception": false,
     "start_time": "2021-07-31T03:22:47.983631",
     "status": "completed"
    },
    "tags": [],
    "trusted": true
   },
   "outputs": [],
   "source": [
    "# 검증 데이터 예측\n",
    "y_valid_preds = logistic_model.predict_proba(X_valid)[:, 1]"
   ]
  },
  {
   "cell_type": "code",
   "execution_count": 119,
   "metadata": {
    "execution": {
     "iopub.execute_input": "2025-09-19T12:40:24.183055Z",
     "iopub.status.busy": "2025-09-19T12:40:24.182594Z",
     "iopub.status.idle": "2025-09-19T12:40:24.217576Z",
     "shell.execute_reply": "2025-09-19T12:40:24.216444Z",
     "shell.execute_reply.started": "2025-09-19T12:40:24.183000Z"
    },
    "papermill": {
     "duration": 0.037469,
     "end_time": "2021-07-31T03:22:48.067973",
     "exception": false,
     "start_time": "2021-07-31T03:22:48.030504",
     "status": "completed"
    },
    "tags": [],
    "trusted": true
   },
   "outputs": [
    {
     "name": "stdout",
     "output_type": "stream",
     "text": [
      "검증 데이터 ROC AUC : 0.7403\n"
     ]
    }
   ],
   "source": [
    "from sklearn.metrics import roc_auc_score # ROC AUC 점수 계산 함수\n",
    "\n",
    "# 검증 데이터 ROC AUC\n",
    "roc_auc = roc_auc_score(y_valid, y_valid_preds)\n",
    "\n",
    "print(f'검증 데이터 ROC AUC : {roc_auc:.4f}')"
   ]
  },
  {
   "cell_type": "markdown",
   "metadata": {
    "papermill": {
     "duration": 0.018642,
     "end_time": "2021-07-31T03:22:48.105289",
     "exception": false,
     "start_time": "2021-07-31T03:22:48.086647",
     "status": "completed"
    },
    "tags": []
   },
   "source": [
    "## 7.4.5 예측 및 결과 제출"
   ]
  },
  {
   "cell_type": "code",
   "execution_count": 121,
   "metadata": {
    "execution": {
     "iopub.execute_input": "2025-09-19T12:41:24.296333Z",
     "iopub.status.busy": "2025-09-19T12:41:24.295873Z",
     "iopub.status.idle": "2025-09-19T12:41:24.920462Z",
     "shell.execute_reply": "2025-09-19T12:41:24.919471Z",
     "shell.execute_reply.started": "2025-09-19T12:41:24.296296Z"
    },
    "papermill": {
     "duration": 0.548195,
     "end_time": "2021-07-31T03:22:48.67254",
     "exception": false,
     "start_time": "2021-07-31T03:22:48.124345",
     "status": "completed"
    },
    "tags": [],
    "trusted": true
   },
   "outputs": [],
   "source": [
    "# 타깃값 1일 확률 예측\n",
    "y_preds = logistic_model.predict_proba(X_test)[:,1]\n",
    "\n",
    "# 제출 파일 생성\n",
    "submission['target'] = y_preds\n",
    "submission.to_csv('ord_submission.csv')"
   ]
  },
  {
   "cell_type": "markdown",
   "metadata": {},
   "source": [
    "날짜 피처의 성격상 순서가 있기 때문에 순서형 인코딩의 성능이 더 좋을 것 같다. 그러나 원-핫 인코딩의 결과가 더 좋게 나왔다."
   ]
  },
  {
   "cell_type": "markdown",
   "metadata": {},
   "source": [
    "![file:///var/folders/fs/ldgbkzq52zng_83v61d49v5c0000gn/T/TemporaryItems/NSIRD_screencaptureui_uCv31p/%E1%84%89%E1%85%B3%E1%84%8F%E1%85%B3%E1%84%85%E1%85%B5%E1%86%AB%E1%84%89%E1%85%A3%E1%86%BA%202025-09-19%20%E1%84%8B%E1%85%A9%E1%84%92%E1%85%AE%209.48.42.png](file:///var/folders/fs/ldgbkzq52zng_83v61d49v5c0000gn/T/TemporaryItems/NSIRD_screencaptureui_uCv31p/%E1%84%89%E1%85%B3%E1%84%8F%E1%85%B3%E1%84%85%E1%85%B5%E1%86%AB%E1%84%89%E1%85%A3%E1%86%BA%202025-09-19%20%E1%84%8B%E1%85%A9%E1%84%92%E1%85%AE%209.48.42.png)"
   ]
  }
 ],
 "metadata": {
  "kaggle": {
   "accelerator": "none",
   "dataSources": [
    {
     "databundleVersionId": 653984,
     "sourceId": 14999,
     "sourceType": "competition"
    }
   ],
   "dockerImageVersionId": 30123,
   "isGpuEnabled": false,
   "isInternetEnabled": true,
   "language": "python",
   "sourceType": "notebook"
  },
  "kernelspec": {
   "display_name": "Python 3",
   "language": "python",
   "name": "python3"
  },
  "language_info": {
   "codemirror_mode": {
    "name": "ipython",
    "version": 3
   },
   "file_extension": ".py",
   "mimetype": "text/x-python",
   "name": "python",
   "nbconvert_exporter": "python",
   "pygments_lexer": "ipython3",
   "version": "3.7.10"
  }
 },
 "nbformat": 4,
 "nbformat_minor": 4
}
