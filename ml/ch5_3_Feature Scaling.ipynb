{
 "cells": [
  {
   "cell_type": "markdown",
   "id": "3eed3043",
   "metadata": {},
   "source": [
    "## 5.4 피처 스케일링"
   ]
  },
  {
   "cell_type": "markdown",
   "id": "6bc99b2a",
   "metadata": {},
   "source": [
    "### 5.4.1 min-max 정규화"
   ]
  },
  {
   "cell_type": "code",
   "execution_count": 1,
   "id": "83949c63",
   "metadata": {},
   "outputs": [
    {
     "name": "stdout",
     "output_type": "stream",
     "text": [
      "      키  몸무게\n",
      "광일  1.7   75\n",
      "혜성  1.5   55\n",
      "덕수  1.8   60\n"
     ]
    }
   ],
   "source": [
    "import pandas as pd\n",
    "\n",
    "height_weight_dict = {'키': [1.7, 1.5, 1.8], '몸무게': [75, 55, 60]}\n",
    "df = pd.DataFrame(height_weight_dict, index=['광일', '혜성', '덕수'])\n",
    "\n",
    "print(df)"
   ]
  },
  {
   "cell_type": "code",
   "execution_count": 2,
   "id": "96bd98e2",
   "metadata": {},
   "outputs": [
    {
     "name": "stdout",
     "output_type": "stream",
     "text": [
      "[[0.66666667 1.        ]\n",
      " [0.         0.        ]\n",
      " [1.         0.25      ]]\n"
     ]
    }
   ],
   "source": [
    "from sklearn.preprocessing import MinMaxScaler\n",
    "\n",
    "# min-max 정규화 객체 생성\n",
    "scaler = MinMaxScaler()\n",
    "\n",
    "# min-max 정규화 적용\n",
    "scaler.fit(df)\n",
    "df_scaled = scaler.transform(df)\n",
    "\n",
    "print(df_scaled)"
   ]
  },
  {
   "cell_type": "code",
   "execution_count": 3,
   "id": "f3c3044b",
   "metadata": {},
   "outputs": [
    {
     "name": "stdout",
     "output_type": "stream",
     "text": [
      "[[0.66666667 1.        ]\n",
      " [0.         0.        ]\n",
      " [1.         0.25      ]]\n"
     ]
    }
   ],
   "source": [
    "# min-max 정규화 객체 생성\n",
    "scaler = MinMaxScaler()\n",
    "\n",
    "# min-max 정규화 적용\n",
    "df_scaled = scaler.fit_transform(df)\n",
    "\n",
    "print(df_scaled)"
   ]
  },
  {
   "cell_type": "markdown",
   "id": "bdfe00d2",
   "metadata": {},
   "source": [
    "### 5.4.2 표준화"
   ]
  },
  {
   "cell_type": "code",
   "execution_count": 4,
   "id": "78475448",
   "metadata": {},
   "outputs": [
    {
     "name": "stdout",
     "output_type": "stream",
     "text": [
      "[[ 0.26726124  1.37281295]\n",
      " [-1.33630621 -0.98058068]\n",
      " [ 1.06904497 -0.39223227]]\n"
     ]
    }
   ],
   "source": [
    "from sklearn.preprocessing import StandardScaler\n",
    "\n",
    "# StandardScaler 객체 생성\n",
    "scaler = StandardScaler()\n",
    "\n",
    "# 표준화 적용\n",
    "df_scaled = scaler.fit_transform(df)\n",
    "\n",
    "print(df_scaled)"
   ]
  },
  {
   "cell_type": "code",
   "execution_count": null,
   "id": "3b98083d",
   "metadata": {},
   "outputs": [],
   "source": []
  }
 ],
 "metadata": {
  "kernelspec": {
   "display_name": "base",
   "language": "python",
   "name": "python3"
  },
  "language_info": {
   "codemirror_mode": {
    "name": "ipython",
    "version": 3
   },
   "file_extension": ".py",
   "mimetype": "text/x-python",
   "name": "python",
   "nbconvert_exporter": "python",
   "pygments_lexer": "ipython3",
   "version": "3.12.7"
  }
 },
 "nbformat": 4,
 "nbformat_minor": 5
}
