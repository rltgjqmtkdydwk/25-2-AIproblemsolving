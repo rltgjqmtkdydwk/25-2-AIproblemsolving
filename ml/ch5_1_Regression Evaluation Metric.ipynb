{
 "cells": [
  {
   "cell_type": "code",
   "execution_count": 3,
   "id": "f83b50e5",
   "metadata": {},
   "outputs": [
    {
     "name": "stdout",
     "output_type": "stream",
     "text": [
      "MAE:\t 0.5385\n",
      "MSE:\t 0.6923\n",
      "RMSE:\t 0.8321\n",
      "MSLE:\t 0.0296\n",
      "RMSLE:\t 0.1721\n",
      "R2:\t 0.8617\n"
     ]
    }
   ],
   "source": [
    "import numpy as np\n",
    "# MAE, MSE, MSLE, R2 임포트\n",
    "from sklearn.metrics import mean_absolute_error, mean_squared_error, mean_squared_log_error, r2_score\n",
    "\n",
    "true = np.array([1, 2, 3, 2, 3, 5, 4, 6, 5, 6, 7, 8, 8]) # 실제값\n",
    "preds = np.array([1, 1, 2, 2, 3, 4, 4, 5, 5, 7, 7, 6, 8]) # 예측값\n",
    "\n",
    "MAE = mean_absolute_error(true, preds)\n",
    "MSE = mean_squared_error(true, preds)\n",
    "RMSE = np.sqrt(MSE)\n",
    "MSLE = mean_squared_log_error(true, preds)\n",
    "RMSLE = np.sqrt(mean_squared_log_error(true, preds))\n",
    "R2 = r2_score(true, preds)\n",
    "\n",
    "# 출력\n",
    "print(f'MAE:\\t {MAE:.4f}')\n",
    "print(f'MSE:\\t {MSE:.4f}')\n",
    "print(f'RMSE:\\t {RMSE:.4f}')\n",
    "print(f'MSLE:\\t {MSLE:.4f}')\n",
    "print(f'RMSLE:\\t {RMSLE:.4f}')\n",
    "print(f'R2:\\t {R2:.4f}')"
   ]
  },
  {
   "cell_type": "code",
   "execution_count": null,
   "id": "a86253e0",
   "metadata": {},
   "outputs": [],
   "source": []
  }
 ],
 "metadata": {
  "kernelspec": {
   "display_name": "base",
   "language": "python",
   "name": "python3"
  },
  "language_info": {
   "codemirror_mode": {
    "name": "ipython",
    "version": 3
   },
   "file_extension": ".py",
   "mimetype": "text/x-python",
   "name": "python",
   "nbconvert_exporter": "python",
   "pygments_lexer": "ipython3",
   "version": "3.12.7"
  }
 },
 "nbformat": 4,
 "nbformat_minor": 5
}
