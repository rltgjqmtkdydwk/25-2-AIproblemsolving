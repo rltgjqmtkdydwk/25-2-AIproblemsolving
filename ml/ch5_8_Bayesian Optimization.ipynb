{
 "cells": [
  {
   "cell_type": "markdown",
   "id": "28c0cd81",
   "metadata": {},
   "source": [
    "## 5.7.3 베이지안 최적화"
   ]
  },
  {
   "cell_type": "markdown",
   "id": "b1f476a5",
   "metadata": {},
   "source": [
    "### 1) 하이퍼 파라미터 탐색 범위 설정"
   ]
  },
  {
   "cell_type": "code",
   "execution_count": 1,
   "id": "04452274",
   "metadata": {},
   "outputs": [],
   "source": [
    "# 하이퍼 파라미터 범위 (딕셔너리 형태)\n",
    "param_bounds = {'x': (-1, 5), \n",
    "                'y': (0, 4)}"
   ]
  },
  {
   "cell_type": "markdown",
   "id": "1e4768cc",
   "metadata": {},
   "source": [
    "### 2) 평가지표 계산 함수 정의"
   ]
  },
  {
   "cell_type": "code",
   "execution_count": 2,
   "id": "0c2850bf",
   "metadata": {},
   "outputs": [],
   "source": [
    "def eval_function(x, y):\n",
    "    return -x ** 2 - (y - 2) ** 2 + 10"
   ]
  },
  {
   "cell_type": "markdown",
   "id": "41430778",
   "metadata": {},
   "source": [
    "### 3) 베이지안 최적화 객체 생성"
   ]
  },
  {
   "cell_type": "code",
   "execution_count": 4,
   "id": "6f7e027d",
   "metadata": {},
   "outputs": [
    {
     "name": "stdout",
     "output_type": "stream",
     "text": [
      "Collecting bayesian-optimization\n",
      "  Downloading bayesian_optimization-3.1.0-py3-none-any.whl.metadata (11 kB)\n",
      "Requirement already satisfied: colorama>=0.4.6 in /opt/anaconda3/lib/python3.12/site-packages (from bayesian-optimization) (0.4.6)\n",
      "Requirement already satisfied: numpy>=1.25 in /opt/anaconda3/lib/python3.12/site-packages (from bayesian-optimization) (1.26.4)\n",
      "Requirement already satisfied: scikit-learn>=1.0.0 in /opt/anaconda3/lib/python3.12/site-packages (from bayesian-optimization) (1.5.1)\n",
      "Requirement already satisfied: scipy>=1.0.0 in /opt/anaconda3/lib/python3.12/site-packages (from bayesian-optimization) (1.13.1)\n",
      "Requirement already satisfied: joblib>=1.2.0 in /opt/anaconda3/lib/python3.12/site-packages (from scikit-learn>=1.0.0->bayesian-optimization) (1.4.2)\n",
      "Requirement already satisfied: threadpoolctl>=3.1.0 in /opt/anaconda3/lib/python3.12/site-packages (from scikit-learn>=1.0.0->bayesian-optimization) (3.5.0)\n",
      "Downloading bayesian_optimization-3.1.0-py3-none-any.whl (36 kB)\n",
      "Installing collected packages: bayesian-optimization\n",
      "Successfully installed bayesian-optimization-3.1.0\n"
     ]
    }
   ],
   "source": [
    "!pip install bayesian-optimization"
   ]
  },
  {
   "cell_type": "code",
   "execution_count": 5,
   "id": "4c776599",
   "metadata": {},
   "outputs": [],
   "source": [
    "from bayes_opt import BayesianOptimization\n",
    "\n",
    "# 베이지안 최적화 객체 생성\n",
    "optimizer = BayesianOptimization(f=eval_function,\n",
    "                                 pbounds=param_bounds,\n",
    "                                 random_state=0)"
   ]
  },
  {
   "cell_type": "markdown",
   "id": "c9127acb",
   "metadata": {},
   "source": [
    "### 4) 최적화 수행"
   ]
  },
  {
   "cell_type": "code",
   "execution_count": 6,
   "id": "e596ebd9",
   "metadata": {},
   "outputs": [
    {
     "name": "stdout",
     "output_type": "stream",
     "text": [
      "|   iter    |  target   |     x     |     y     |\n",
      "-------------------------------------------------\n",
      "| \u001b[39m1        \u001b[39m | \u001b[39m4.0017931\u001b[39m | \u001b[39m2.2928810\u001b[39m | \u001b[39m2.8607574\u001b[39m |\n",
      "| \u001b[39m2        \u001b[39m | \u001b[39m3.1212757\u001b[39m | \u001b[39m2.6165802\u001b[39m | \u001b[39m2.1795327\u001b[39m |\n",
      "| \u001b[35m3        \u001b[39m | \u001b[35m4.0778439\u001b[39m | \u001b[35m2.2698436\u001b[39m | \u001b[35m2.8774768\u001b[39m |\n",
      "| \u001b[35m4        \u001b[39m | \u001b[35m9.5802516\u001b[39m | \u001b[35m-0.473358\u001b[39m | \u001b[35m2.4423570\u001b[39m |\n",
      "| \u001b[39m5        \u001b[39m | \u001b[39m5.0      \u001b[39m | \u001b[39m-1.0     \u001b[39m | \u001b[39m4.0      \u001b[39m |\n",
      "| \u001b[39m6        \u001b[39m | \u001b[39m9.0977314\u001b[39m | \u001b[39m-0.697064\u001b[39m | \u001b[39m1.3547333\u001b[39m |\n",
      "| \u001b[35m7        \u001b[39m | \u001b[35m9.7445811\u001b[39m | \u001b[35m0.3973939\u001b[39m | \u001b[35m1.6877551\u001b[39m |\n",
      "| \u001b[39m8        \u001b[39m | \u001b[39m5.6472994\u001b[39m | \u001b[39m0.5938859\u001b[39m | \u001b[39m0.0      \u001b[39m |\n",
      "| \u001b[39m9        \u001b[39m | \u001b[39m-19.0    \u001b[39m | \u001b[39m5.0      \u001b[39m | \u001b[39m0.0      \u001b[39m |\n",
      "| \u001b[39m10       \u001b[39m | \u001b[39m5.0      \u001b[39m | \u001b[39m-1.0     \u001b[39m | \u001b[39m0.0      \u001b[39m |\n",
      "| \u001b[39m11       \u001b[39m | \u001b[39m9.4062882\u001b[39m | \u001b[39m0.3987705\u001b[39m | \u001b[39m2.6593131\u001b[39m |\n",
      "| \u001b[35m12       \u001b[39m | \u001b[35m9.9880748\u001b[39m | \u001b[35m-0.102095\u001b[39m | \u001b[35m1.9612486\u001b[39m |\n",
      "=================================================\n"
     ]
    }
   ],
   "source": [
    "# 베이지안 최적화 수행\n",
    "optimizer.maximize(init_points=2, n_iter=10)"
   ]
  },
  {
   "cell_type": "code",
   "execution_count": 7,
   "id": "e2739806",
   "metadata": {},
   "outputs": [
    {
     "data": {
      "text/plain": [
       "{'target': 9.98807485302979,\n",
       " 'params': {'x': -0.10209544023584055, 'y': 1.9612486380463978}}"
      ]
     },
     "execution_count": 7,
     "metadata": {},
     "output_type": "execute_result"
    }
   ],
   "source": [
    "# 평가점수가 최대일 때 타깃, x, y 값 출력\n",
    "optimizer.max"
   ]
  }
 ],
 "metadata": {
  "kernelspec": {
   "display_name": "base",
   "language": "python",
   "name": "python3"
  },
  "language_info": {
   "codemirror_mode": {
    "name": "ipython",
    "version": 3
   },
   "file_extension": ".py",
   "mimetype": "text/x-python",
   "name": "python",
   "nbconvert_exporter": "python",
   "pygments_lexer": "ipython3",
   "version": "3.12.7"
  }
 },
 "nbformat": 4,
 "nbformat_minor": 5
}
